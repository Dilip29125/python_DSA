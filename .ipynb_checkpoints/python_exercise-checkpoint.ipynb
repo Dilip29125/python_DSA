{
 "cells": [
  {
   "cell_type": "markdown",
   "id": "a92d1718",
   "metadata": {},
   "source": [
    "# String Exercises:"
   ]
  },
  {
   "cell_type": "markdown",
   "id": "6508e001",
   "metadata": {},
   "source": [
    "### 1. Write a Python program to count the number of characters in a string."
   ]
  },
  {
   "cell_type": "code",
   "execution_count": 1,
   "id": "9ea8a311",
   "metadata": {},
   "outputs": [
    {
     "name": "stdout",
     "output_type": "stream",
     "text": [
      "Enter a string:good evening\n",
      "number of characters excluding space 11\n",
      "number of characters including space 12\n"
     ]
    }
   ],
   "source": [
    "#input a string\n",
    "string = input('Enter a string:')\n",
    "\n",
    "#This line counts the characters without spaces and prints the result.\n",
    "print('number of characters excluding space', len(string.replace(' ', '')))\n",
    "\n",
    "#This line counts the characters including spaces and prints the result.\n",
    "print('number of characters including space',len(string))"
   ]
  },
  {
   "cell_type": "markdown",
   "id": "f1a48f59",
   "metadata": {},
   "source": [
    "### 2. Write a Python program to reverse a string."
   ]
  },
  {
   "cell_type": "code",
   "execution_count": 2,
   "id": "d629e135",
   "metadata": {},
   "outputs": [
    {
     "name": "stdout",
     "output_type": "stream",
     "text": [
      "Enter a string:hello\n",
      "Reversed string: olleh\n"
     ]
    }
   ],
   "source": [
    "#enter a string and store it in the 'string' variable\n",
    "string = input('Enter a string:')\n",
    "\n",
    "#Reverse the input string using slicing, and store the result in the 'reversed_string' variable\n",
    "reversed_string = string[::-1]\n",
    "\n",
    "#Print the reversed string\n",
    "print('Reversed string:', reversed_string)"
   ]
  },
  {
   "cell_type": "markdown",
   "id": "34d47e7c",
   "metadata": {},
   "source": [
    "### 3. Write a Python program to check if a string is a palindrome."
   ]
  },
  {
   "cell_type": "code",
   "execution_count": 3,
   "id": "5df8df3a",
   "metadata": {},
   "outputs": [
    {
     "name": "stdout",
     "output_type": "stream",
     "text": [
      "Enter a string:Madam\n",
      "Entered string is a palindrome\n"
     ]
    }
   ],
   "source": [
    "# Collect a string input from the user\n",
    "string = input('Enter a string:').lower()\n",
    "# Check if the reversed string is the same as the original string\n",
    "if string[::-1] == string:\n",
    "    print('Entered string is a palindrome')\n",
    "else:\n",
    "    print('Entered string is not a palindrome')\n"
   ]
  },
  {
   "cell_type": "markdown",
   "id": "eb0bd00c",
   "metadata": {},
   "source": [
    "### 4. Write a Python program to remove all the vowels from a string."
   ]
  },
  {
   "cell_type": "code",
   "execution_count": 4,
   "id": "49f50270",
   "metadata": {},
   "outputs": [
    {
     "name": "stdout",
     "output_type": "stream",
     "text": [
      "Enter a string:evening\n",
      "vnng\n"
     ]
    }
   ],
   "source": [
    "#enter a string\n",
    "string = input('Enter a string:')\n",
    "\n",
    "# Define a list of vowels (both uppercase and lowercase)\n",
    "vowels = ['A', 'E', 'I', 'O', 'U', 'a', 'e', 'i', 'o', 'u']\n",
    "\n",
    "# Initialize an empty string to store the characters without vowels\n",
    "str_without_vowels = ''\n",
    "\n",
    "# Iterate through each character in the input string\n",
    "for char in string:\n",
    "    # Check if the character is not in the list of vowels\n",
    "    if char not in vowels:\n",
    "        # If it's not a vowel, add it to the result string\n",
    "        str_without_vowels += char\n",
    "\n",
    "# Print the input string with vowels removed\n",
    "print(str_without_vowels)\n"
   ]
  },
  {
   "cell_type": "markdown",
   "id": "fd054b9e",
   "metadata": {},
   "source": [
    "### 5. Write a Python program to find the first non-repeating character in a string."
   ]
  },
  {
   "cell_type": "code",
   "execution_count": 10,
   "id": "990f1303",
   "metadata": {},
   "outputs": [
    {
     "name": "stdout",
     "output_type": "stream",
     "text": [
      "Enter a string:heheyello\n",
      "First non-repeating character in the string: y\n"
     ]
    }
   ],
   "source": [
    "# enter a string\n",
    "string = input('Enter a string:')\n",
    "\n",
    "# Initialize an empty list to maintain the order of characters\n",
    "char_order = []\n",
    "\n",
    "# Initialize a dictionary to count the occurrences of each character\n",
    "char_count = {}\n",
    "\n",
    "# Remove spaces and convert the input string to lowercase for a case-insensitive count\n",
    "string = string.replace(\" \", \"\").lower()\n",
    "\n",
    "# Iterate through each character in the modified input string\n",
    "for char in string:\n",
    "    # Check if the character is already in char_count\n",
    "    if char in char_count:\n",
    "        char_count[char] += 1\n",
    "    else:\n",
    "        # If the character is not in char_count, add it to the dictionary\n",
    "        char_count[char] = 1\n",
    "        # Also, add it to the order list to maintain order\n",
    "\n",
    "# Iterate through the characters in the order they appear in the input\n",
    "for char in string:\n",
    "    # Check if the character has a count of 1 (non-repeating)\n",
    "    if char_count[char] == 1:\n",
    "        print('First non-repeating character in the string:', char)\n",
    "        break"
   ]
  },
  {
   "cell_type": "markdown",
   "id": "e539c196",
   "metadata": {},
   "source": [
    "### 6. Write a Python program to capitalize the first letter of each word in a string."
   ]
  },
  {
   "cell_type": "code",
   "execution_count": 11,
   "id": "d0df5960",
   "metadata": {},
   "outputs": [
    {
     "name": "stdout",
     "output_type": "stream",
     "text": [
      "Enter a string:hello\n",
      "Hello\n"
     ]
    }
   ],
   "source": [
    "# enter a string\n",
    "string = input('Enter a string:')\n",
    "\n",
    "# Capitalize the first letter of the input string\n",
    "capitalized_string = string.capitalize()\n",
    "\n",
    "# Print the capitalized string\n",
    "print(capitalized_string)"
   ]
  },
  {
   "cell_type": "markdown",
   "id": "2ca88061",
   "metadata": {},
   "source": [
    "### 7. Write a Python program to check if a string is an anagram of another string."
   ]
  },
  {
   "cell_type": "code",
   "execution_count": 12,
   "id": "0b339f9d",
   "metadata": {},
   "outputs": [
    {
     "name": "stdout",
     "output_type": "stream",
     "text": [
      "Enter string 1:god\n",
      "Enter string 2:dog\n",
      "god and dog are anagrams\n"
     ]
    }
   ],
   "source": [
    "# enter the first string\n",
    "str1 = input('Enter string 1:')\n",
    "\n",
    "# enter the second string\n",
    "str2 = input('Enter string 2:')\n",
    "\n",
    "# Remove spaces and sort the characters in both input strings\n",
    "sorted_str1 = sorted(str1.replace(' ', ''))\n",
    "sorted_str2 = sorted(str2.replace(' ', ''))\n",
    "\n",
    "# Check if the sorted strings are equal, indicating an anagram\n",
    "if sorted_str1 == sorted_str2:\n",
    "    print('{} and {} are anagrams'.format(str1, str2))\n",
    "else:\n",
    "    print('{} and {} are not anagrams'.format(str1, str2))\n"
   ]
  },
  {
   "cell_type": "markdown",
   "id": "b496d3d9",
   "metadata": {},
   "source": [
    "### 8. Write a Python program to find the most frequent character in a string."
   ]
  },
  {
   "cell_type": "code",
   "execution_count": 13,
   "id": "b341966b",
   "metadata": {},
   "outputs": [
    {
     "name": "stdout",
     "output_type": "stream",
     "text": [
      "Enter a string:hello how are you\n",
      "Most frequent character is o with a count of 3\n"
     ]
    }
   ],
   "source": [
    "# enter a string\n",
    "string = input('Enter a string:')\n",
    "\n",
    "# Initialize a dictionary to store character frequencies\n",
    "freq_dict = {}\n",
    "\n",
    "# Iterate through each character in the modified input string (spaces removed)\n",
    "for char in string.replace(' ', ''):\n",
    "    # Check if the character is already in the frequency dictionary\n",
    "    if char in freq_dict:\n",
    "        freq_dict[char] += 1\n",
    "    else:\n",
    "        # If the character is not in the dictionary, add it with a count of 1\n",
    "        freq_dict[char] = 1\n",
    "\n",
    "# Find the maximum character count\n",
    "max_count = max(freq_dict.values())\n",
    "\n",
    "# Iterate through the dictionary to find the character(s) with the maximum count\n",
    "for key, value in freq_dict.items():\n",
    "    #max_value = max(my_dict.values)\n",
    "    if value == max_count:\n",
    "        target_key = key\n",
    "        # Print the most frequent character and its count\n",
    "        print('Most frequent character is {} with a count of {}'.format(target_key, max_count))\n",
    "        break"
   ]
  },
  {
   "cell_type": "markdown",
   "id": "634d8979",
   "metadata": {},
   "source": [
    "### 9. Write a Python program to check if a string is a valid email address."
   ]
  },
  {
   "cell_type": "code",
   "execution_count": 14,
   "id": "0f4d550f",
   "metadata": {},
   "outputs": [
    {
     "name": "stdout",
     "output_type": "stream",
     "text": [
      "Enter an email address: good@gmail.com\n",
      "good@gmail.com is a valid email address.\n"
     ]
    }
   ],
   "source": [
    "import re\n",
    "\n",
    "def is_valid_email(email):\n",
    "    # Define a regular expression pattern for a valid email address\n",
    "    pattern = r'^[a-zA-Z0-9._%+-]+@[a-zA-Z0-9.-]+\\.[a-zA-Z]{2,}$'\n",
    "\n",
    "    # Use re.match to check if the email matches the pattern\n",
    "    if re.match(pattern, email):\n",
    "        return True\n",
    "    else:\n",
    "        return False\n",
    "\n",
    "# Input an email address to check\n",
    "email_address = input('Enter an email address: ')\n",
    "\n",
    "# Check if it's a valid email address\n",
    "if is_valid_email(email_address):\n",
    "    print(f'{email_address} is a valid email address.')\n",
    "else:\n",
    "    print(f'{email_address} is not a valid email address.')"
   ]
  },
  {
   "cell_type": "markdown",
   "id": "692a4eac",
   "metadata": {},
   "source": [
    "### 10. Write a Python program to find the length of the longest substring without repeating characters."
   ]
  },
  {
   "cell_type": "code",
   "execution_count": 14,
   "id": "a1a1a2c2",
   "metadata": {},
   "outputs": [
    {
     "name": "stdout",
     "output_type": "stream",
     "text": [
      "Enter a string:how are you\n",
      "Largest substring without repeating characters: how are\n"
     ]
    }
   ],
   "source": [
    "# enter a string\n",
    "string = input('Enter a string:')\n",
    "\n",
    "# Initialize variables to track the largest substring and the current substring\n",
    "largest = ''\n",
    "substr = ''\n",
    "\n",
    "# Iterate through each character in the input string\n",
    "for char in string:\n",
    "    # Check if the character is not in the current substring\n",
    "    if char not in substr:\n",
    "        # Add the character to the current substring\n",
    "        substr += char\n",
    "        # If the current substring is longer than the largest found so far, update the largest substring\n",
    "        if len(substr) > len(largest):\n",
    "            largest = substr\n",
    "    else:\n",
    "        # If the character is in the current substring, reset the current substring\n",
    "        substr = ''\n",
    "\n",
    "# Print the largest substring without repeating characters\n",
    "print('Largest substring without repeating characters:', largest)"
   ]
  },
  {
   "cell_type": "markdown",
   "id": "5077b863",
   "metadata": {},
   "source": [
    "# List Exercises:"
   ]
  },
  {
   "cell_type": "markdown",
   "id": "519fa438",
   "metadata": {},
   "source": [
    "### 1. Write a Python program to find the sum of all elements in a list."
   ]
  },
  {
   "cell_type": "code",
   "execution_count": 15,
   "id": "93361531",
   "metadata": {},
   "outputs": [
    {
     "name": "stdout",
     "output_type": "stream",
     "text": [
      "100\n"
     ]
    }
   ],
   "source": [
    "# Define a list of numbers\n",
    "lst = [10, 20, 30, 40]\n",
    "\n",
    "# Initialize a variable to store the sum of the numbers\n",
    "summ = 0\n",
    "\n",
    "# Iterate through the list and add each number to the sum\n",
    "for i in lst:\n",
    "    summ += i\n",
    "\n",
    "# Print the sum\n",
    "print(summ)"
   ]
  },
  {
   "cell_type": "markdown",
   "id": "c26baf1c",
   "metadata": {},
   "source": [
    "### 2. Write a Python program to find the maximum and minimum elements in a list."
   ]
  },
  {
   "cell_type": "code",
   "execution_count": 17,
   "id": "2960a202",
   "metadata": {},
   "outputs": [
    {
     "name": "stdout",
     "output_type": "stream",
     "text": [
      "Minimum: 10\n",
      "Maximum: 60\n"
     ]
    }
   ],
   "source": [
    "# Define a list of numbers\n",
    "lst = [10, 20, 60, 30, 40]\n",
    "\n",
    "#we can do this also\n",
    "#print('minimun :',min(lst),'&','maximum :',max(lst))\n",
    "\n",
    "# Initialize variables to find the minimum and maximum\n",
    "minimum = lst[0]\n",
    "maximum = lst[0]\n",
    "\n",
    "# Iterate through the list to find the minimum value\n",
    "for i in lst:\n",
    "    if i < minimum:\n",
    "        minimum = i\n",
    "\n",
    "# Iterate through the list to find the maximum value\n",
    "for i in lst:\n",
    "    if i > maximum:\n",
    "        maximum = i\n",
    "\n",
    "# Print the minimum and maximum values\n",
    "print('Minimum:', minimum)\n",
    "print('Maximum:', maximum)"
   ]
  },
  {
   "cell_type": "markdown",
   "id": "8ab0b622",
   "metadata": {},
   "source": [
    "### 3. Write a Python program to remove duplicates from a list."
   ]
  },
  {
   "cell_type": "code",
   "execution_count": 19,
   "id": "592c4533",
   "metadata": {},
   "outputs": [
    {
     "name": "stdout",
     "output_type": "stream",
     "text": [
      "[10, 20, 30, 40, 50]\n"
     ]
    }
   ],
   "source": [
    "# Define a list with duplicates\n",
    "lst = [10, 20, 30, 40, 10, 30, 50]\n",
    "\n",
    "#we can do this also\n",
    "#list(set(lst))\n",
    "\n",
    "# Create a new list to store unique elements\n",
    "unique_lst = []\n",
    "\n",
    "# Iterate through the original list\n",
    "for i in lst:\n",
    "    # Check if the element is not already in the unique list\n",
    "    if i not in unique_lst:\n",
    "        unique_lst.append(i)\n",
    "\n",
    "# Print the list with duplicates removed\n",
    "print(unique_lst)"
   ]
  },
  {
   "cell_type": "markdown",
   "id": "e5f7d9f4",
   "metadata": {},
   "source": [
    "### 4. Write a Python program to check if a list is sorted in ascending order."
   ]
  },
  {
   "cell_type": "code",
   "execution_count": 21,
   "id": "7c851f91",
   "metadata": {},
   "outputs": [
    {
     "name": "stdout",
     "output_type": "stream",
     "text": [
      "List is not sorted in ascending order\n"
     ]
    }
   ],
   "source": [
    "# Define a list\n",
    "lst = [10, 20, 30, 70, 10]\n",
    "\n",
    "# Assume the list is in ascending order\n",
    "ascending = True\n",
    "\n",
    "# Iterate through the list to check for ascending order\n",
    "for i in range(len(lst) - 1):\n",
    "    if lst[i] > lst[i + 1]:\n",
    "        # If a decreasing element is found, set the flag to False and exit the loop\n",
    "        ascending = False\n",
    "        break\n",
    "\n",
    "# Check the flag and print the result\n",
    "if ascending:\n",
    "    print('List is sorted in ascending order')\n",
    "else:\n",
    "    print('List is not sorted in ascending order')"
   ]
  },
  {
   "cell_type": "markdown",
   "id": "018b0d4c",
   "metadata": {},
   "source": [
    "### 5. Write a Python program to find the second largest element in a list."
   ]
  },
  {
   "cell_type": "code",
   "execution_count": 23,
   "id": "08496e91",
   "metadata": {},
   "outputs": [
    {
     "name": "stdout",
     "output_type": "stream",
     "text": [
      "50\n"
     ]
    }
   ],
   "source": [
    "# Define a list\n",
    "lst = [10, 50, 20, 30, 70, 10]\n",
    "\n",
    "# Sort the list in reverse order\n",
    "lst = sorted(lst, reverse=True)\n",
    "\n",
    "# Initialize a variable to store the second largest element\n",
    "largest = lst[0]\n",
    "\n",
    "# Iterate through the sorted list to find the second largest element\n",
    "for i in range(1, len(lst)):\n",
    "    if lst[i] != largest:\n",
    "        largest = lst[i]\n",
    "        break\n",
    "\n",
    "# Print the second largest element\n",
    "print(largest)"
   ]
  },
  {
   "cell_type": "markdown",
   "id": "3a53c61e",
   "metadata": {},
   "source": [
    "### 6. Write a Python program to sort a list of strings in alphabetical order."
   ]
  },
  {
   "cell_type": "code",
   "execution_count": 25,
   "id": "72f583e5",
   "metadata": {},
   "outputs": [
    {
     "data": {
      "text/plain": [
       "['bye', 'good', 'hello', 'hi']"
      ]
     },
     "execution_count": 25,
     "metadata": {},
     "output_type": "execute_result"
    }
   ],
   "source": [
    "# Define a list of strings\n",
    "lst = ['hi', 'hello', 'good', 'bye']\n",
    "\n",
    "# Sort the list in ascending alphabetical order\n",
    "lst.sort()\n",
    "\n",
    "# Print the sorted list\n",
    "#print(sorted(lst))\n",
    "lst"
   ]
  },
  {
   "cell_type": "markdown",
   "id": "36ceeeb0",
   "metadata": {},
   "source": [
    "### 7. Write a Python program to find the common elements between two lists."
   ]
  },
  {
   "cell_type": "code",
   "execution_count": 26,
   "id": "8bd05ff8",
   "metadata": {},
   "outputs": [
    {
     "name": "stdout",
     "output_type": "stream",
     "text": [
      "[3, 4]\n"
     ]
    }
   ],
   "source": [
    "# Define two lists\n",
    "lst1 = [1, 2, 3, 4, 5]\n",
    "lst2 = [3, 4, 6, 7, 8]\n",
    "\n",
    "# Use the filter function with a lambda function to find common elements\n",
    "common_elements = list(filter(lambda x: x in lst1, lst2))\n",
    "\n",
    "# Print the common elements\n",
    "print(common_elements)"
   ]
  },
  {
   "cell_type": "markdown",
   "id": "cbdf85ce",
   "metadata": {},
   "source": [
    "### 8. Write a Python program to remove the nth occurrence of an element from a list."
   ]
  },
  {
   "cell_type": "code",
   "execution_count": 29,
   "id": "8b6f6be7",
   "metadata": {},
   "outputs": [
    {
     "name": "stdout",
     "output_type": "stream",
     "text": [
      "[10, 20, 30, 10, 30, 40, 50, 60, 50, 40, 10, 20]\n"
     ]
    }
   ],
   "source": [
    "# Define the list\n",
    "lst = [10, 20, 30, 10, 30, 40, 50, 60, 50, 40, 10, 20, 10]\n",
    "\n",
    "# Define the element to remove\n",
    "ele_to_remove = 10\n",
    "\n",
    "# Define the nth occurrence to remove\n",
    "nth_occ = 4\n",
    "\n",
    "# Initialize a counter for tracking the occurrences\n",
    "count = 0\n",
    "\n",
    "# Initialize a new list to store the modified elements\n",
    "new_lst = []\n",
    "\n",
    "# Iterate through the original list\n",
    "for i in lst:\n",
    "    if i == ele_to_remove:\n",
    "        count += 1\n",
    "        if count == nth_occ:\n",
    "            continue  # Skip this occurrence\n",
    "    new_lst.append(i)\n",
    "\n",
    "# Print the modified list with the nth occurrence removed\n",
    "print(new_lst)"
   ]
  },
  {
   "cell_type": "markdown",
   "id": "18454412",
   "metadata": {},
   "source": [
    "### 9. Write a Python program to find the difference between two lists."
   ]
  },
  {
   "cell_type": "code",
   "execution_count": 31,
   "id": "2c82d826",
   "metadata": {},
   "outputs": [
    {
     "name": "stdout",
     "output_type": "stream",
     "text": [
      "[1, 2, 6, 7]\n"
     ]
    }
   ],
   "source": [
    "# Define two lists\n",
    "lst1 = [1, 2, 3, 4, 5]\n",
    "lst2 = [3, 4, 5, 6, 7]\n",
    "\n",
    "# Initialize an empty list to store the different elements\n",
    "diff = []\n",
    "\n",
    "# Iterate through lst1 to find elements not in lst2\n",
    "for ele in lst1:\n",
    "    if ele not in lst2:\n",
    "        diff.append(ele)\n",
    "\n",
    "# Iterate through lst2 to find elements not in lst1\n",
    "for ele in lst2:\n",
    "    if ele not in lst1:\n",
    "        diff.append(ele)\n",
    "\n",
    "# Print the list of different elements\n",
    "print(diff)"
   ]
  },
  {
   "cell_type": "markdown",
   "id": "f7f6314c",
   "metadata": {},
   "source": [
    "### 10. Write a Python program to remove the elements of a list that are divisible by 3."
   ]
  },
  {
   "cell_type": "code",
   "execution_count": 33,
   "id": "acf29b11",
   "metadata": {},
   "outputs": [
    {
     "name": "stdout",
     "output_type": "stream",
     "text": [
      "[10, 14, 20, 14, 17, 29]\n"
     ]
    }
   ],
   "source": [
    "# Define the original list\n",
    "lst = [9, 10, 12, 14, 15, 20, 14, 3, 17, 29, 18, 6]\n",
    "\n",
    "# Create a new list using list comprehension to filter elements not divisible by 3\n",
    "new_lst = [ele for ele in lst if ele % 3 != 0]\n",
    "\n",
    "# Print the new list\n",
    "print(new_lst)"
   ]
  },
  {
   "cell_type": "markdown",
   "id": "e021eba2",
   "metadata": {},
   "source": [
    "# Tuple Exercises:"
   ]
  },
  {
   "cell_type": "markdown",
   "id": "7a1e3d87",
   "metadata": {},
   "source": [
    "### 1. Write a Python program to find the length of a tuple."
   ]
  },
  {
   "cell_type": "code",
   "execution_count": 53,
   "id": "1e6a150f",
   "metadata": {},
   "outputs": [
    {
     "data": {
      "text/plain": [
       "5"
      ]
     },
     "execution_count": 53,
     "metadata": {},
     "output_type": "execute_result"
    }
   ],
   "source": [
    "t = (1,2,4,5,6)\n",
    "len(t)"
   ]
  },
  {
   "cell_type": "markdown",
   "id": "a3eecfa6",
   "metadata": {},
   "source": [
    "### 2. Write a Python program to concatenate two tuples."
   ]
  },
  {
   "cell_type": "code",
   "execution_count": 54,
   "id": "62649536",
   "metadata": {},
   "outputs": [
    {
     "name": "stdout",
     "output_type": "stream",
     "text": [
      "(1, 2, 3, 4, 4, 5, 6, 7)\n"
     ]
    }
   ],
   "source": [
    "t1 = (1,2,3,4)\n",
    "t2 = (4,5,6,7)\n",
    "print(t1+t2)"
   ]
  },
  {
   "cell_type": "markdown",
   "id": "b3afc8ec",
   "metadata": {},
   "source": [
    "### 3. Write a Python program to convert a tuple to a list."
   ]
  },
  {
   "cell_type": "code",
   "execution_count": 55,
   "id": "baff1a8d",
   "metadata": {},
   "outputs": [
    {
     "data": {
      "text/plain": [
       "[1, 2, 3, 4, 5]"
      ]
     },
     "execution_count": 55,
     "metadata": {},
     "output_type": "execute_result"
    }
   ],
   "source": [
    "t = (1,2,3,4,5)\n",
    "lst = list(t)\n",
    "lst"
   ]
  },
  {
   "cell_type": "markdown",
   "id": "0a022622",
   "metadata": {},
   "source": [
    "### 4. Write a Python program to find the index of an element in a tuple."
   ]
  },
  {
   "cell_type": "code",
   "execution_count": 56,
   "id": "e9320aab",
   "metadata": {},
   "outputs": [
    {
     "name": "stdout",
     "output_type": "stream",
     "text": [
      "5\n"
     ]
    }
   ],
   "source": [
    "t = (1,2,3,4,5,6)\n",
    "print(t.index(6))"
   ]
  },
  {
   "cell_type": "markdown",
   "id": "adf9da6c",
   "metadata": {},
   "source": [
    "### 5. Write a Python program to check if an element exists in a tuple."
   ]
  },
  {
   "cell_type": "code",
   "execution_count": 35,
   "id": "0725f3ce",
   "metadata": {},
   "outputs": [
    {
     "name": "stdout",
     "output_type": "stream",
     "text": [
      "Element 2 is present\n"
     ]
    }
   ],
   "source": [
    "# Define a tuple\n",
    "t = (1, 2, 3, 4, 5, 6, 7)\n",
    "\n",
    "# Define the element to check for\n",
    "ele = 2\n",
    "\n",
    "# Check if the element is in the tuple\n",
    "if ele in t:\n",
    "    print('Element {} is present'.format(ele))\n",
    "else:\n",
    "    print('Element {} is not present'.format(ele))"
   ]
  },
  {
   "cell_type": "markdown",
   "id": "b480bd49",
   "metadata": {},
   "source": [
    "### 6. Write a Python program to count the number of occurrences of an element in a tuple."
   ]
  },
  {
   "cell_type": "code",
   "execution_count": 37,
   "id": "6f10fa00",
   "metadata": {},
   "outputs": [
    {
     "name": "stdout",
     "output_type": "stream",
     "text": [
      "5\n"
     ]
    }
   ],
   "source": [
    "# Define a tuple\n",
    "t = (1, 2, 1, 4, 5, 5, 7, 1, 5, 1, 1)\n",
    "\n",
    "# Count the number of occurrences of the value 1 in the tuple\n",
    "count_of_1 = t.count(1)\n",
    "\n",
    "# Print the count\n",
    "print(count_of_1)"
   ]
  },
  {
   "cell_type": "markdown",
   "id": "1ac79c0b",
   "metadata": {},
   "source": [
    "### 7. Write a Python program to find the maximum and minimum elements in a tuple."
   ]
  },
  {
   "cell_type": "code",
   "execution_count": 38,
   "id": "ddd0711f",
   "metadata": {},
   "outputs": [
    {
     "name": "stdout",
     "output_type": "stream",
     "text": [
      "Maximum: 7\n",
      "Minimum: 1\n"
     ]
    }
   ],
   "source": [
    "# Define a tuple\n",
    "t = (1, 2, 1, 4, 5, 5, 7, 1, 5, 1, 1)\n",
    "\n",
    "# Find and print the maximum value in the tuple\n",
    "print('Maximum:', max(t))\n",
    "\n",
    "# Find and print the minimum value in the tuple\n",
    "print('Minimum:', min(t))"
   ]
  },
  {
   "cell_type": "markdown",
   "id": "e19da0a5",
   "metadata": {},
   "source": [
    "### 8. Write a Python program to reverse a tuple."
   ]
  },
  {
   "cell_type": "code",
   "execution_count": 41,
   "id": "d32fe1f6",
   "metadata": {},
   "outputs": [
    {
     "data": {
      "text/plain": [
       "(6, 5, 4, 3, 2, 1)"
      ]
     },
     "execution_count": 41,
     "metadata": {},
     "output_type": "execute_result"
    }
   ],
   "source": [
    "# Define a tuple\n",
    "t = (1, 2, 3, 4, 5, 6)\n",
    "\n",
    "# Reverse the tuple using the reversed() function and convert it back to a tuple\n",
    "reversed_t = tuple(reversed(t))\n",
    "\n",
    "# Print the reversed tuple\n",
    "reversed_t"
   ]
  },
  {
   "cell_type": "markdown",
   "id": "5728b666",
   "metadata": {},
   "source": [
    "### 9. Write a Python program to check if all elements in a tuple are the same."
   ]
  },
  {
   "cell_type": "code",
   "execution_count": 43,
   "id": "f347ac5f",
   "metadata": {},
   "outputs": [
    {
     "name": "stdout",
     "output_type": "stream",
     "text": [
      "Elements in the tuple are not the same\n"
     ]
    }
   ],
   "source": [
    "# Define a tuple\n",
    "t = (2, 3, 2, 2, 2)\n",
    "\n",
    "# Check if all elements in the tuple are the same\n",
    "if len(set(t)) == 1:\n",
    "    print('All elements in the tuple are the same')\n",
    "else:\n",
    "    print('Elements in the tuple are not the same')"
   ]
  },
  {
   "cell_type": "markdown",
   "id": "479edc6a",
   "metadata": {},
   "source": [
    "### 10. Write a Python program to create a new tuple with the elements from two existing tuples."
   ]
  },
  {
   "cell_type": "code",
   "execution_count": 44,
   "id": "cb8c9df6",
   "metadata": {},
   "outputs": [
    {
     "name": "stdout",
     "output_type": "stream",
     "text": [
      "(1, 2, 3, 4, 4, 5, 6, 7)\n"
     ]
    }
   ],
   "source": [
    "t1 = (1,2,3,4)\n",
    "t2 = (4,5,6,7)\n",
    "result = t1+t2\n",
    "print(result)"
   ]
  },
  {
   "cell_type": "markdown",
   "id": "53a775c0",
   "metadata": {},
   "source": [
    "# Set Exercises:"
   ]
  },
  {
   "cell_type": "markdown",
   "id": "6ed100e0",
   "metadata": {},
   "source": [
    "### 1. Write a Python program to find the union of two sets."
   ]
  },
  {
   "cell_type": "code",
   "execution_count": 46,
   "id": "62d3c1f5",
   "metadata": {},
   "outputs": [
    {
     "data": {
      "text/plain": [
       "{1, 2, 3, 4, 5, 6, 7, 8}"
      ]
     },
     "execution_count": 46,
     "metadata": {},
     "output_type": "execute_result"
    }
   ],
   "source": [
    "# Define two sets\n",
    "set1 = {1, 2, 3, 4, 5}\n",
    "set2 = {3, 5, 6, 7, 8}\n",
    "\n",
    "# Perform the union of the sets using the .union() method\n",
    "result = set1.union(set2)\n",
    "\n",
    "# Alternatively, you can use the | operator for union\n",
    "# result = set1 | set2\n",
    "\n",
    "# Print the result, which is a new set containing unique elements from both sets\n",
    "result"
   ]
  },
  {
   "cell_type": "markdown",
   "id": "32e6769c",
   "metadata": {},
   "source": [
    "### 2. Write a Python program to find the intersection of two sets."
   ]
  },
  {
   "cell_type": "code",
   "execution_count": 48,
   "id": "d5a90bda",
   "metadata": {},
   "outputs": [
    {
     "data": {
      "text/plain": [
       "{3, 5}"
      ]
     },
     "execution_count": 48,
     "metadata": {},
     "output_type": "execute_result"
    }
   ],
   "source": [
    "# Define two sets\n",
    "set1 = {1, 2, 3, 4, 5}\n",
    "set2 = {3, 5, 6, 7, 8}\n",
    "\n",
    "# Find the intersection of the sets using the .intersection() method\n",
    "result = set1.intersection(set2)\n",
    "\n",
    "# Alternatively, you can use the & operator for intersection\n",
    "# result = set1 & set2\n",
    "\n",
    "# Print the result, which is a new set containing common elements from both sets\n",
    "result"
   ]
  },
  {
   "cell_type": "markdown",
   "id": "cb87ecff",
   "metadata": {},
   "source": [
    "### 3. Write a Python program to check if a set is a subset of another set."
   ]
  },
  {
   "cell_type": "code",
   "execution_count": 50,
   "id": "592f6c2b",
   "metadata": {},
   "outputs": [
    {
     "data": {
      "text/plain": [
       "True"
      ]
     },
     "execution_count": 50,
     "metadata": {},
     "output_type": "execute_result"
    }
   ],
   "source": [
    "# Define two sets\n",
    "set1 = {3, 4, 5}\n",
    "set2 = {3, 4, 5, 6, 7, 8}\n",
    "\n",
    "# Check if set1 is a subset of set2 using the .issubset() method\n",
    "result = set1.issubset(set2)\n",
    "\n",
    "# Alternatively, you can use the <= operator for subset check\n",
    "# result = set1 <= set2\n",
    "\n",
    "# Print the result, which is a boolean indicating whether set1 is a subset of set2\n",
    "result"
   ]
  },
  {
   "cell_type": "markdown",
   "id": "f6ae9d0e",
   "metadata": {},
   "source": [
    "### 4. Write a Python program to remove duplicate elements from a set."
   ]
  },
  {
   "cell_type": "markdown",
   "id": "982c7d41",
   "metadata": {},
   "source": [
    "set in python do not allow duplicates, if you try to add duplicates it will be ignored and set will have only unique elements"
   ]
  },
  {
   "cell_type": "markdown",
   "id": "0ca99745",
   "metadata": {},
   "source": [
    "### 5. Write a Python program to add an element to a set."
   ]
  },
  {
   "cell_type": "code",
   "execution_count": 52,
   "id": "9bfd0695",
   "metadata": {},
   "outputs": [
    {
     "data": {
      "text/plain": [
       "{1, 2, 3, 4, 5, 6, 7}"
      ]
     },
     "execution_count": 52,
     "metadata": {},
     "output_type": "execute_result"
    }
   ],
   "source": [
    "# Define a set\n",
    "set1 = {1, 2, 3, 4, 5, 6}\n",
    "\n",
    "# Add the element 7 to the set using the add() method\n",
    "set1.add(7)\n",
    "\n",
    "# Print the modified set\n",
    "set1"
   ]
  },
  {
   "cell_type": "markdown",
   "id": "a170b119",
   "metadata": {},
   "source": [
    "### 6. Write a Python program to remove an element from a set."
   ]
  },
  {
   "cell_type": "code",
   "execution_count": 54,
   "id": "0a3a21e6",
   "metadata": {},
   "outputs": [
    {
     "data": {
      "text/plain": [
       "{1, 2, 4, 5, 6}"
      ]
     },
     "execution_count": 54,
     "metadata": {},
     "output_type": "execute_result"
    }
   ],
   "source": [
    "# Define a set\n",
    "set1 = {1, 2, 3, 4, 5, 6}\n",
    "\n",
    "# Remove the element 3 from the set using the remove() method\n",
    "set1.remove(3)\n",
    "\n",
    "# Print the modified set\n",
    "set1"
   ]
  },
  {
   "cell_type": "markdown",
   "id": "2f5c99cc",
   "metadata": {},
   "source": [
    "### 7. Write a Python program to find the difference between two sets."
   ]
  },
  {
   "cell_type": "code",
   "execution_count": 56,
   "id": "94b87496",
   "metadata": {},
   "outputs": [
    {
     "data": {
      "text/plain": [
       "{1, 2, 4}"
      ]
     },
     "execution_count": 56,
     "metadata": {},
     "output_type": "execute_result"
    }
   ],
   "source": [
    "# Define two sets\n",
    "set1 = {1, 2, 3, 4, 5}\n",
    "set2 = {3, 5, 6, 7, 8}\n",
    "\n",
    "# Calculate the set difference between set1 and set2 using the difference() method\n",
    "result = set1.difference(set2)\n",
    "\n",
    "# Print the result, which is a new set containing elements present in set1 but not in set2\n",
    "result"
   ]
  },
  {
   "cell_type": "markdown",
   "id": "55c0e935",
   "metadata": {},
   "source": [
    "### 8. Write a Python program to check if two sets are disjoint."
   ]
  },
  {
   "cell_type": "code",
   "execution_count": 58,
   "id": "dd8818d9",
   "metadata": {},
   "outputs": [
    {
     "data": {
      "text/plain": [
       "True"
      ]
     },
     "execution_count": 58,
     "metadata": {},
     "output_type": "execute_result"
    }
   ],
   "source": [
    "# Define two sets\n",
    "set1 = {1, 2, 3, 4, 5}\n",
    "set2 = {6, 7, 8}\n",
    "\n",
    "# Check if set1 and set2 are disjoint sets using the isdisjoint() method\n",
    "result = set1.isdisjoint(set2)\n",
    "\n",
    "# Print the result, which is a boolean indicating whether the sets are disjoint\n",
    "result"
   ]
  },
  {
   "cell_type": "markdown",
   "id": "4681e49a",
   "metadata": {},
   "source": [
    "### 9. Write a Python program to find the symmetric difference between two sets."
   ]
  },
  {
   "cell_type": "code",
   "execution_count": 60,
   "id": "47ffe75d",
   "metadata": {},
   "outputs": [
    {
     "data": {
      "text/plain": [
       "{1, 2, 4, 6, 7, 8}"
      ]
     },
     "execution_count": 60,
     "metadata": {},
     "output_type": "execute_result"
    }
   ],
   "source": [
    "# Define two sets\n",
    "set1 = {1, 2, 3, 4, 5}\n",
    "set2 = {3, 5, 6, 7, 8}\n",
    "\n",
    "# Calculate the symmetric difference between set1 and set2 using the symmetric_difference() method\n",
    "result = set1.symmetric_difference(set2)\n",
    "\n",
    "# Print the result, which is a new set containing unique elements from each set\n",
    "result"
   ]
  },
  {
   "cell_type": "markdown",
   "id": "3c97562d",
   "metadata": {},
   "source": [
    "### 10. Write a Python program to check if a set is empty."
   ]
  },
  {
   "cell_type": "code",
   "execution_count": 64,
   "id": "9044f626",
   "metadata": {},
   "outputs": [
    {
     "name": "stdout",
     "output_type": "stream",
     "text": [
      "Set is not empty\n"
     ]
    }
   ],
   "source": [
    "# Define an empty set\n",
    "set1 = {2}\n",
    "\n",
    "# if len(set1)==0:\n",
    "#     print('set is empty')\n",
    "# else:\n",
    "#     print('set is not empty')\n",
    "\n",
    "#Alternate way\n",
    "# Check if the set is empty using the \"not\" operator\n",
    "if not set1:\n",
    "    print('Set is empty')\n",
    "else:\n",
    "    print('Set is not empty')"
   ]
  },
  {
   "cell_type": "markdown",
   "id": "431b39ce",
   "metadata": {},
   "source": [
    "# Dictionary Exercises:"
   ]
  },
  {
   "cell_type": "markdown",
   "id": "ab13d6e4",
   "metadata": {},
   "source": [
    "### 1. Write a Python program to iterate over a dictionary and print its keys and values."
   ]
  },
  {
   "cell_type": "code",
   "execution_count": 66,
   "id": "79ee3acd",
   "metadata": {},
   "outputs": [
    {
     "name": "stdout",
     "output_type": "stream",
     "text": [
      "Key: a Value: apple\n",
      "Key: b Value: ball\n",
      "Key: c Value: cat\n"
     ]
    }
   ],
   "source": [
    "# Define a dictionary\n",
    "my_dict = {'a': 'apple', 'b': 'ball', 'c': 'cat'}\n",
    "\n",
    "# Iterate through the dictionary items and print key-value pairs\n",
    "for key, value in my_dict.items():\n",
    "    print('Key:', key, 'Value:', value)"
   ]
  },
  {
   "cell_type": "markdown",
   "id": "57e42fec",
   "metadata": {},
   "source": [
    "### 2. Write a Python program to check if a key exists in a dictionary."
   ]
  },
  {
   "cell_type": "code",
   "execution_count": 68,
   "id": "585bddad",
   "metadata": {},
   "outputs": [
    {
     "name": "stdout",
     "output_type": "stream",
     "text": [
      "d is not present as a key\n"
     ]
    }
   ],
   "source": [
    "# Define a dictionary\n",
    "my_dict = {'a': 'apple', 'b': 'ball', 'c': 'cat'}\n",
    "\n",
    "# Define the key to find\n",
    "key = 'd'\n",
    "\n",
    "# Check if the key is present in the dictionary\n",
    "if key in my_dict:\n",
    "    print(key, 'is present as a key')\n",
    "else:\n",
    "    print(key, 'is not present as a key')"
   ]
  },
  {
   "cell_type": "markdown",
   "id": "5cbf8f72",
   "metadata": {},
   "source": [
    "### 3. Write a Python program to get the value associated with a key in a dictionary."
   ]
  },
  {
   "cell_type": "code",
   "execution_count": 70,
   "id": "17351f6f",
   "metadata": {},
   "outputs": [
    {
     "name": "stdout",
     "output_type": "stream",
     "text": [
      "There is no such key\n"
     ]
    }
   ],
   "source": [
    "# Define a dictionary\n",
    "my_dict = {'a': 'apple', 'b': 'ball', 'c': 'cat'}\n",
    "\n",
    "# Define the key to find the value for\n",
    "key = 'd'\n",
    "\n",
    "# Check if the key is present in the dictionary and retrieve the associated value using get()\n",
    "if my_dict.get(key):\n",
    "    print('Value associated with', key, 'is:', my_dict[key])\n",
    "else:\n",
    "    print('There is no such key')"
   ]
  },
  {
   "cell_type": "markdown",
   "id": "c82df71c",
   "metadata": {},
   "source": [
    "### 4. Write a Python program to remove a key from a dictionary."
   ]
  },
  {
   "cell_type": "code",
   "execution_count": 72,
   "id": "80572651",
   "metadata": {},
   "outputs": [
    {
     "name": "stdout",
     "output_type": "stream",
     "text": [
      "Key a removed successfully\n"
     ]
    }
   ],
   "source": [
    "# Define a dictionary\n",
    "my_dict = {'a': 'apple', 'b': 'ball', 'c': 'cat'}\n",
    "\n",
    "# Define the key to remove\n",
    "key = 'a'\n",
    "\n",
    "# Check if the key is present in the dictionary and remove it using pop()\n",
    "if key in my_dict:\n",
    "    my_dict.pop(key)  # Use the key variable here\n",
    "    print('Key', key, 'removed successfully')\n",
    "else:\n",
    "    print('There is no such key')"
   ]
  },
  {
   "cell_type": "markdown",
   "id": "b5bad79e",
   "metadata": {},
   "source": [
    "### 5. Write a Python program to sort a dictionary by its values."
   ]
  },
  {
   "cell_type": "code",
   "execution_count": 74,
   "id": "4716626c",
   "metadata": {},
   "outputs": [
    {
     "data": {
      "text/plain": [
       "{'id': '105', 'dept': 'account', 'Name': 'john'}"
      ]
     },
     "execution_count": 74,
     "metadata": {},
     "output_type": "execute_result"
    }
   ],
   "source": [
    "# Define a dictionary\n",
    "my_dict = {'Name': 'john', 'dept': 'account', 'id': 105}\n",
    "\n",
    "# Convert all values to strings using a dictionary comprehension\n",
    "dict_to_sort = {key: str(value) for key, value in my_dict.items()}\n",
    "\n",
    "# Sort the dictionary based on the string representation of values\n",
    "sorted_dict = dict(sorted(dict_to_sort.items(), key=lambda value: value[1]))\n",
    "\n",
    "# Print the sorted dictionary\n",
    "sorted_dict"
   ]
  },
  {
   "cell_type": "markdown",
   "id": "f0d82825",
   "metadata": {},
   "source": [
    "### 6. Write a Python program to merge two dictionaries."
   ]
  },
  {
   "cell_type": "code",
   "execution_count": 76,
   "id": "46fdfbaa",
   "metadata": {},
   "outputs": [
    {
     "name": "stdout",
     "output_type": "stream",
     "text": [
      "{'a': 'apple', 'b': 'ball', 'c': 'cat', 'Name': 'john', 'dept': 'account', 'id': 105}\n"
     ]
    }
   ],
   "source": [
    "# Define two dictionaries\n",
    "dict1 = {'a': 'apple', 'b': 'ball', 'c': 'cat'}\n",
    "dict2 = {'Name': 'john', 'dept': 'account', 'id': 105}\n",
    "\n",
    "# Update dict1 with the key-value pairs from dict2\n",
    "dict1.update(dict2)\n",
    "\n",
    "# Print the modified dict1\n",
    "print(dict1)"
   ]
  },
  {
   "cell_type": "markdown",
   "id": "dc2b09ae",
   "metadata": {},
   "source": [
    "### 7. Write a Python program to count the frequency of each element in a dictionary."
   ]
  },
  {
   "cell_type": "code",
   "execution_count": 78,
   "id": "e5e55605",
   "metadata": {},
   "outputs": [
    {
     "data": {
      "text/plain": [
       "{'apple': 2, 'ball': 2, 'cat': 1}"
      ]
     },
     "execution_count": 78,
     "metadata": {},
     "output_type": "execute_result"
    }
   ],
   "source": [
    "# Define a dictionary\n",
    "my_dict = {'a': 'apple', 'b': 'ball', 'c': 'cat', 'A': 'apple', 'B': 'ball'}\n",
    "\n",
    "# Initialize a dictionary to store the frequency of values\n",
    "frequency = {}\n",
    "\n",
    "# Iterate through the key-value pairs in my_dict\n",
    "for key, value in my_dict.items():\n",
    "    if value in frequency:\n",
    "        frequency[value] += 1\n",
    "    else:\n",
    "        frequency[value] = 1\n",
    "\n",
    "# The frequency dictionary contains the count of each unique value\n",
    "frequency\n"
   ]
  },
  {
   "cell_type": "code",
   "execution_count": 79,
   "id": "fb83acce",
   "metadata": {},
   "outputs": [
    {
     "data": {
      "text/plain": [
       "{'apple': 2, 'cat': 1, 'ball': 2}"
      ]
     },
     "execution_count": 79,
     "metadata": {},
     "output_type": "execute_result"
    }
   ],
   "source": [
    "freq = {value:list(my_dict.values()).count(value) for value in set(my_dict.values())}\n",
    "freq"
   ]
  },
  {
   "cell_type": "markdown",
   "id": "456c3020",
   "metadata": {},
   "source": [
    "### 8. Write a Python program to find the length of a dictionary."
   ]
  },
  {
   "cell_type": "code",
   "execution_count": 80,
   "id": "a07bbc31",
   "metadata": {},
   "outputs": [
    {
     "data": {
      "text/plain": [
       "5"
      ]
     },
     "execution_count": 80,
     "metadata": {},
     "output_type": "execute_result"
    }
   ],
   "source": [
    "my_dict = {'a':'apple','b':'ball','c':'cat','A':'apple','B':'ball'}\n",
    "len(my_dict)"
   ]
  },
  {
   "cell_type": "markdown",
   "id": "4929f72b",
   "metadata": {},
   "source": [
    "### 9. Write a Python program to check if a dictionary is empty."
   ]
  },
  {
   "cell_type": "code",
   "execution_count": 81,
   "id": "47d9a6df",
   "metadata": {},
   "outputs": [
    {
     "name": "stdout",
     "output_type": "stream",
     "text": [
      "Empty\n"
     ]
    }
   ],
   "source": [
    "# Define an empty dictionary\n",
    "#my_dict = {'a':'apple','b':'ball','c':'cat','A':'apple','B':'ball'}\n",
    "my_dict = {}\n",
    "\n",
    "# Check if the dictionary is empty\n",
    "if my_dict:\n",
    "    print('Not empty')\n",
    "else:\n",
    "    print('Empty')"
   ]
  },
  {
   "cell_type": "markdown",
   "id": "81f17a5b",
   "metadata": {},
   "source": [
    "### 10. Write a Python program to find the keys with the maximum and minimum values in a dictionary."
   ]
  },
  {
   "cell_type": "code",
   "execution_count": 82,
   "id": "df2d940c",
   "metadata": {},
   "outputs": [
    {
     "name": "stdout",
     "output_type": "stream",
     "text": [
      "Minimum value key is: d\n",
      "Maximum value key is: b\n"
     ]
    }
   ],
   "source": [
    "# Define a dictionary\n",
    "my_dict = {'a': 10, 'b': 25, 'c': 16, 'd': 8, 'e': 19}\n",
    "\n",
    "# Find and print the key associated with the minimum value in the dictionary\n",
    "print('Minimum value key is:', min(my_dict, key=lambda a: my_dict[a]))\n",
    "\n",
    "# Find and print the key associated with the maximum value in the dictionary\n",
    "print('Maximum value key is:', max(my_dict, key=lambda a: my_dict[a]))"
   ]
  },
  {
   "cell_type": "markdown",
   "id": "231eb913",
   "metadata": {},
   "source": [
    "# Range Exercises:"
   ]
  },
  {
   "cell_type": "markdown",
   "id": "69b6fc31",
   "metadata": {},
   "source": [
    "### 1. Write a Python program to iterate over a range of numbers and print them."
   ]
  },
  {
   "cell_type": "code",
   "execution_count": 83,
   "id": "f215a70a",
   "metadata": {},
   "outputs": [
    {
     "name": "stdout",
     "output_type": "stream",
     "text": [
      "1\n",
      "2\n",
      "3\n",
      "4\n",
      "5\n",
      "6\n",
      "7\n",
      "8\n",
      "9\n",
      "10\n"
     ]
    }
   ],
   "source": [
    "for i in range(1,11):\n",
    "    print(i)"
   ]
  },
  {
   "cell_type": "markdown",
   "id": "3509c576",
   "metadata": {},
   "source": [
    "### 2. Write a Python program to find the sum of all numbers in a range."
   ]
  },
  {
   "cell_type": "code",
   "execution_count": 85,
   "id": "1707c054",
   "metadata": {},
   "outputs": [
    {
     "data": {
      "text/plain": [
       "55"
      ]
     },
     "execution_count": 85,
     "metadata": {},
     "output_type": "execute_result"
    }
   ],
   "source": [
    "# Initialize a variable to store the sum\n",
    "summ = 0\n",
    "\n",
    "# Iterate through integers from 1 to 10 and add them to the sum\n",
    "for i in range(1, 11):\n",
    "    summ += i\n",
    "\n",
    "# The 'summ' variable now contains the sum of integers from 1 to 10\n",
    "summ"
   ]
  },
  {
   "cell_type": "markdown",
   "id": "88de5e8a",
   "metadata": {},
   "source": [
    "### 3. Write a Python program to print all even numbers in a given range."
   ]
  },
  {
   "cell_type": "code",
   "execution_count": 87,
   "id": "fddcd49f",
   "metadata": {},
   "outputs": [
    {
     "name": "stdout",
     "output_type": "stream",
     "text": [
      "Enter a start range: 5\n",
      "Enter an end range: 25\n",
      "Even numbers between 5 and 25:\n",
      "[6, 8, 10, 12, 14, 16, 18, 20, 22, 24]\n"
     ]
    }
   ],
   "source": [
    "# Get the start and end range from user input\n",
    "start = int(input('Enter a start range: '))\n",
    "end = int(input('Enter an end range: '))\n",
    "\n",
    "# Initialize a list to store even numbers\n",
    "even = []\n",
    "\n",
    "# Iterate through numbers from 'start' to 'end' (inclusive)\n",
    "for i in range(start, end + 1):\n",
    "    if i % 2 == 0:\n",
    "        even.append(i)\n",
    "\n",
    "# Print the even numbers between the specified range\n",
    "print('Even numbers between {} and {}:'.format(start, end))\n",
    "print(even)"
   ]
  },
  {
   "cell_type": "markdown",
   "id": "a30f922a",
   "metadata": {},
   "source": [
    "### 4. Write a Python program to print all odd numbers in a given range."
   ]
  },
  {
   "cell_type": "code",
   "execution_count": 89,
   "id": "a0303c59",
   "metadata": {},
   "outputs": [
    {
     "name": "stdout",
     "output_type": "stream",
     "text": [
      "Enter a start range: 1\n",
      "Enter an end range: 50\n",
      "Odd numbers between 1 and 50:\n",
      "[1, 3, 5, 7, 9, 11, 13, 15, 17, 19, 21, 23, 25, 27, 29, 31, 33, 35, 37, 39, 41, 43, 45, 47, 49]\n"
     ]
    }
   ],
   "source": [
    "# Get the start and end range from user input\n",
    "start = int(input('Enter a start range: '))\n",
    "end = int(input('Enter an end range: '))\n",
    "\n",
    "# Initialize a list to store odd numbers\n",
    "odd = []\n",
    "\n",
    "# Iterate through numbers from 'start' to 'end' (inclusive)\n",
    "for i in range(start, end + 1):\n",
    "    if i % 2 != 0:\n",
    "        odd.append(i)\n",
    "\n",
    "# Print the odd numbers between the specified range\n",
    "print('Odd numbers between {} and {}:'.format(start, end))\n",
    "print(odd)"
   ]
  },
  {
   "cell_type": "markdown",
   "id": "c8ba4079",
   "metadata": {},
   "source": [
    "### 5. Write a Python program to find the average of all numbers in a range."
   ]
  },
  {
   "cell_type": "code",
   "execution_count": 90,
   "id": "c88d8d78",
   "metadata": {},
   "outputs": [
    {
     "name": "stdout",
     "output_type": "stream",
     "text": [
      "Enter a start range: 1\n",
      "Enter an end range: 11\n",
      "Average of all numbers: 6.0\n"
     ]
    }
   ],
   "source": [
    "# Get the start and end range from user input\n",
    "start = int(input('Enter a start range: '))\n",
    "end = int(input('Enter an end range: '))\n",
    "\n",
    "# Initialize variables to store the sum and count\n",
    "summ = 0\n",
    "count = 0\n",
    "\n",
    "# Iterate through numbers from 'start' to 'end' (inclusive)\n",
    "for i in range(start, end + 1):\n",
    "    summ += i\n",
    "    count += 1\n",
    "\n",
    "# Calculate the average\n",
    "avg = summ / count\n",
    "\n",
    "# Print the average of all numbers in the specified range\n",
    "print('Average of all numbers:', avg)"
   ]
  },
  {
   "cell_type": "markdown",
   "id": "9e040284",
   "metadata": {},
   "source": [
    "### 6. Write a Python program to check if a number is present in a given range."
   ]
  },
  {
   "cell_type": "code",
   "execution_count": 92,
   "id": "e0c85bda",
   "metadata": {},
   "outputs": [
    {
     "name": "stdout",
     "output_type": "stream",
     "text": [
      "Enter a start range: 1\n",
      "Enter an end range: 50\n",
      "Given number 16 is present\n"
     ]
    }
   ],
   "source": [
    "# Get the start and end range from user input\n",
    "start = int(input('Enter a start range: '))\n",
    "end = int(input('Enter an end range: '))\n",
    "\n",
    "# Define the number to check for\n",
    "num = 16\n",
    "\n",
    "# Initialize a flag to track whether the number is present\n",
    "present = False\n",
    "\n",
    "# Iterate through the range with a step of 3\n",
    "for i in range(start, end, 3):\n",
    "    if num == i:\n",
    "        present = True\n",
    "        break\n",
    "\n",
    "# Check the 'present' flag and print the result\n",
    "if present:\n",
    "    print('Given number {} is present'.format(num))\n",
    "else:\n",
    "    print('Given number {} is not present'.format(num))"
   ]
  },
  {
   "cell_type": "markdown",
   "id": "85662da3",
   "metadata": {},
   "source": [
    "### 7. Write a Python program to reverse a range of numbers and print them."
   ]
  },
  {
   "cell_type": "code",
   "execution_count": 94,
   "id": "3885c372",
   "metadata": {},
   "outputs": [
    {
     "name": "stdout",
     "output_type": "stream",
     "text": [
      "Enter a start range: 5\n",
      "Enter an end range: 16\n",
      "Reversed range:\n",
      "16\n",
      "15\n",
      "14\n",
      "13\n",
      "12\n",
      "11\n",
      "10\n",
      "9\n",
      "8\n",
      "7\n",
      "6\n",
      "5\n"
     ]
    }
   ],
   "source": [
    "# Get the start and end range from user input\n",
    "start = int(input('Enter a start range: '))\n",
    "end = int(input('Enter an end range: '))\n",
    "\n",
    "# Print the reversed range of numbers\n",
    "print('Reversed range:')\n",
    "for i in range(end, start - 1, -1):\n",
    "    print(i)"
   ]
  },
  {
   "cell_type": "markdown",
   "id": "c3c5784a",
   "metadata": {},
   "source": [
    "### 8. Write a Python program to find the product of all numbers in a range."
   ]
  },
  {
   "cell_type": "code",
   "execution_count": 96,
   "id": "18f1618e",
   "metadata": {},
   "outputs": [
    {
     "name": "stdout",
     "output_type": "stream",
     "text": [
      "Enter a start range: 2\n",
      "Enter an end range: 6\n",
      "Product of all numbers in the range = 720\n"
     ]
    }
   ],
   "source": [
    "# Get the start and end range from user input\n",
    "start = int(input('Enter a start range: '))\n",
    "end = int(input('Enter an end range: '))\n",
    "\n",
    "# Initialize a variable to store the product\n",
    "product = 1\n",
    "\n",
    "# Iterate through numbers in the specified range\n",
    "for i in range(start, end + 1):\n",
    "    product *= i\n",
    "\n",
    "# Print the product of all numbers in the range\n",
    "print('Product of all numbers in the range =', product)"
   ]
  },
  {
   "cell_type": "markdown",
   "id": "65c6ca89",
   "metadata": {},
   "source": [
    "### 9. Write a Python program to print the squares of all numbers in a range."
   ]
  },
  {
   "cell_type": "code",
   "execution_count": 98,
   "id": "efc418ea",
   "metadata": {},
   "outputs": [
    {
     "name": "stdout",
     "output_type": "stream",
     "text": [
      "Enter a start range: 1\n",
      "Enter an end range: 5\n",
      "*************************************\n",
      "Square of 1 is 1\n",
      "Square of 2 is 4\n",
      "Square of 3 is 9\n",
      "Square of 4 is 16\n",
      "Square of 5 is 25\n"
     ]
    }
   ],
   "source": [
    "# Get the start and end range from user input\n",
    "start = int(input('Enter a start range: '))\n",
    "end = int(input('Enter an end range: '))\n",
    "\n",
    "# Print a separator\n",
    "print('*************************************')\n",
    "\n",
    "# Iterate through numbers in the specified range and print their squares\n",
    "for i in range(start, end + 1):\n",
    "    print('Square of {} is {}'.format(i, i*i))"
   ]
  },
  {
   "cell_type": "markdown",
   "id": "43f27424",
   "metadata": {},
   "source": [
    "### 10. Write a Python program to print the cube of all numbers in a range."
   ]
  },
  {
   "cell_type": "code",
   "execution_count": 99,
   "id": "1c909d47",
   "metadata": {},
   "outputs": [
    {
     "name": "stdout",
     "output_type": "stream",
     "text": [
      "Enter a start range: 1\n",
      "Enter an end range: 5\n",
      "*************************************\n",
      "Cube of 1 is 1\n",
      "Cube of 2 is 8\n",
      "Cube of 3 is 27\n",
      "Cube of 4 is 64\n",
      "Cube of 5 is 125\n"
     ]
    }
   ],
   "source": [
    "# Get the start and end range from user input\n",
    "start = int(input('Enter a start range: '))\n",
    "end = int(input('Enter an end range: '))\n",
    "\n",
    "# Print a separator\n",
    "print('*************************************')\n",
    "\n",
    "# Iterate through numbers in the specified range and print their cubes\n",
    "for i in range(start, end + 1):\n",
    "    print('Cube of {} is {}'.format(i, i**3))"
   ]
  },
  {
   "cell_type": "markdown",
   "id": "11ab9c74",
   "metadata": {},
   "source": [
    "# If-Else Loop Exercises:"
   ]
  },
  {
   "cell_type": "markdown",
   "id": "a58b504e",
   "metadata": {},
   "source": [
    "### 1. Write a Python program to check if a number is positive, negative, or zero."
   ]
  },
  {
   "cell_type": "code",
   "execution_count": 100,
   "id": "22df5e02",
   "metadata": {},
   "outputs": [
    {
     "name": "stdout",
     "output_type": "stream",
     "text": [
      "Enter a number: -6\n",
      "Entered number (-6) is negative\n"
     ]
    }
   ],
   "source": [
    "# Get a number as input from the user\n",
    "num = int(input('Enter a number: '))\n",
    "\n",
    "# Check whether the number is positive, negative, or zero and print the result\n",
    "if num > 0:\n",
    "    print('Entered number ({}) is positive'.format(num))\n",
    "elif num < 0:\n",
    "    print('Entered number ({}) is negative'.format(num))\n",
    "else:\n",
    "    print('Entered number ({}) is zero'.format(num))"
   ]
  },
  {
   "cell_type": "markdown",
   "id": "c4a54c8a",
   "metadata": {},
   "source": [
    "### 2. Write a Python program to check if a number is even or odd."
   ]
  },
  {
   "cell_type": "code",
   "execution_count": 101,
   "id": "332b88db",
   "metadata": {},
   "outputs": [
    {
     "name": "stdout",
     "output_type": "stream",
     "text": [
      "Enter a number: 5\n",
      "Entered number is odd\n"
     ]
    }
   ],
   "source": [
    "# Get a number as input from the user\n",
    "num = int(input('Enter a number: '))\n",
    "\n",
    "# Check whether the number is even or odd and print the result\n",
    "if num % 2 == 0:\n",
    "    print('Entered number is even')\n",
    "else:\n",
    "    print('Entered number is odd')"
   ]
  },
  {
   "cell_type": "markdown",
   "id": "9d48207f",
   "metadata": {},
   "source": [
    "### 3. Write a Python program to check if a year is a leap year or not."
   ]
  },
  {
   "cell_type": "code",
   "execution_count": 102,
   "id": "1f5e8c45",
   "metadata": {},
   "outputs": [
    {
     "name": "stdout",
     "output_type": "stream",
     "text": [
      "Enter a year: 2024\n",
      "2024 is a leap year\n"
     ]
    }
   ],
   "source": [
    "# Get a year as input from the user\n",
    "year = int(input('Enter a year: '))\n",
    "\n",
    "# Check whether the year is a leap year and print the result\n",
    "if (year % 400 == 0) and (year % 100 == 0):\n",
    "    print(\"{0} is a leap year\".format(year))\n",
    "elif (year % 4 == 0) and (year % 100 != 0):\n",
    "    print(\"{0} is a leap year\".format(year))\n",
    "else:\n",
    "    print(\"{0} is not a leap year\".format(year))"
   ]
  },
  {
   "cell_type": "markdown",
   "id": "79d80d3a",
   "metadata": {},
   "source": [
    "### 4. Write a Python program to find the maximum of three numbers using if-else."
   ]
  },
  {
   "cell_type": "code",
   "execution_count": 103,
   "id": "a686e0f2",
   "metadata": {},
   "outputs": [
    {
     "name": "stdout",
     "output_type": "stream",
     "text": [
      "Enter number 1: 4\n",
      "Enter number 2: 9\n",
      "Enter number 3: 8\n",
      "Maximum is 9\n"
     ]
    }
   ],
   "source": [
    "# Get three numbers as input from the user\n",
    "num1 = int(input('Enter number 1: '))\n",
    "num2 = int(input('Enter number 2: '))\n",
    "num3 = int(input('Enter number 3: '))\n",
    "\n",
    "#print(max(num1,num2,num3))\n",
    "# Compare the numbers to find the maximum\n",
    "if num1 > num2:\n",
    "    if num1 > num3:\n",
    "        print('Maximum is', num1)\n",
    "    else:\n",
    "        print('Maximum is', num3)\n",
    "elif num2 > num3:\n",
    "    print('Maximum is', num2)\n",
    "else:\n",
    "    print('Maximum is', num3)"
   ]
  },
  {
   "cell_type": "markdown",
   "id": "7b46a2af",
   "metadata": {},
   "source": [
    "### 5. Write a Python program to check if a number is prime."
   ]
  },
  {
   "cell_type": "code",
   "execution_count": 104,
   "id": "a1dd379a",
   "metadata": {},
   "outputs": [
    {
     "name": "stdout",
     "output_type": "stream",
     "text": [
      "Enter a number: 12\n",
      "12 is not a prime number\n"
     ]
    }
   ],
   "source": [
    "# Get a number as input from the user\n",
    "num = int(input('Enter a number: '))\n",
    "\n",
    "# Initialize a variable to track if the number is prime\n",
    "prime = True\n",
    "\n",
    "# Check if the number is less than 2, which is not prime\n",
    "if num < 2:\n",
    "    print('Enter a valid number between 2 and +∞')\n",
    "else:\n",
    "    # Iterate through numbers from 2 to (num-1) to check for factors\n",
    "    for i in range(2, num):\n",
    "        if num % i == 0:\n",
    "            prime = False\n",
    "            break\n",
    "\n",
    "# Check the 'prime' flag and print the result\n",
    "if prime:\n",
    "    print('{} is a prime number'.format(num))\n",
    "else:\n",
    "    print('{} is not a prime number'.format(num))"
   ]
  },
  {
   "cell_type": "markdown",
   "id": "7c5848ce",
   "metadata": {},
   "source": [
    "### 6. Write a Python program to check if a number is divisible by both 3 and 5."
   ]
  },
  {
   "cell_type": "code",
   "execution_count": 105,
   "id": "ad71f529",
   "metadata": {},
   "outputs": [
    {
     "name": "stdout",
     "output_type": "stream",
     "text": [
      "Enter a number: 35\n",
      "35 is not divisible by both 3 and 5\n"
     ]
    }
   ],
   "source": [
    "# Get a number as input from the user\n",
    "num = int(input('Enter a number: '))\n",
    "\n",
    "# Check if the number is divisible by both 3 and 5\n",
    "if num % 3 == 0 and num % 5 == 0:\n",
    "    print('{} is divisible by both 3 and 5'.format(num))\n",
    "else:\n",
    "    print('{} is not divisible by both 3 and 5'.format(num))"
   ]
  },
  {
   "cell_type": "markdown",
   "id": "4dd8656c",
   "metadata": {},
   "source": [
    "### 7. Write a Python program to check if a character is a vowel or consonant."
   ]
  },
  {
   "cell_type": "code",
   "execution_count": 106,
   "id": "40068256",
   "metadata": {},
   "outputs": [
    {
     "name": "stdout",
     "output_type": "stream",
     "text": [
      "Enter a character: e\n",
      "Entered character is a vowel\n"
     ]
    }
   ],
   "source": [
    "# Get a character as input from the user\n",
    "char = input('Enter a character: ')\n",
    "\n",
    "# Define a list of vowels\n",
    "vowels = ['a', 'e', 'i', 'o', 'u']\n",
    "\n",
    "# Check if the lowercase of the character is in the list of vowels\n",
    "if char.lower() in vowels:\n",
    "    print('Entered character is a vowel')\n",
    "else:\n",
    "    print('Entered character is a consonant')"
   ]
  },
  {
   "cell_type": "markdown",
   "id": "8c8dc392",
   "metadata": {},
   "source": [
    "### 8. Write a Python program to check if a given string is a palindrome using if-else."
   ]
  },
  {
   "cell_type": "code",
   "execution_count": 107,
   "id": "233f4e93",
   "metadata": {},
   "outputs": [
    {
     "name": "stdout",
     "output_type": "stream",
     "text": [
      "Enter a string: madam\n",
      "Entered string is a palindrome\n"
     ]
    }
   ],
   "source": [
    "# Get a string as input from the user\n",
    "string = input('Enter a string: ')\n",
    "\n",
    "# Reverse the string using slicing\n",
    "rev_str = string[::-1]\n",
    "\n",
    "# Check if the original string (in lowercase) is equal to the reversed string (in lowercase)\n",
    "if string.lower() == rev_str.lower():\n",
    "    print('Entered string is a palindrome')\n",
    "else:\n",
    "    print('Entered string is not a palindrome')"
   ]
  },
  {
   "cell_type": "markdown",
   "id": "0862bc0c",
   "metadata": {},
   "source": [
    "### 9. Write a Python program to determine the largest among three numbers using nested if-else."
   ]
  },
  {
   "cell_type": "code",
   "execution_count": 108,
   "id": "c9638d31",
   "metadata": {},
   "outputs": [
    {
     "name": "stdout",
     "output_type": "stream",
     "text": [
      "Enter number 1: 45\n",
      "Enter number 2: 26\n",
      "Enter number 3: 85\n",
      "Maximum = 85\n"
     ]
    }
   ],
   "source": [
    "# Get three numbers as input from the user\n",
    "num1 = int(input('Enter number 1: '))\n",
    "num2 = int(input('Enter number 2: '))\n",
    "num3 = int(input('Enter number 3: '))\n",
    "\n",
    "# Compare the numbers to find the maximum\n",
    "if num1 > num2:\n",
    "    if num1 > num3:\n",
    "        print('Maximum =', num1)\n",
    "    else:\n",
    "        print('Maximum =', num3)\n",
    "elif num2 > num3:\n",
    "    print('Maximum =', num2)\n",
    "else:\n",
    "    print('Maximum =', num3)\n"
   ]
  },
  {
   "cell_type": "markdown",
   "id": "e48fa352",
   "metadata": {},
   "source": [
    "### 10. Write a Python program to check if a triangle is equilateral, isosceles, or scalene based on its side lengths using if-else."
   ]
  },
  {
   "cell_type": "code",
   "execution_count": 109,
   "id": "d06fc395",
   "metadata": {},
   "outputs": [
    {
     "name": "stdout",
     "output_type": "stream",
     "text": [
      "Length of the 1st side: 6.6\n",
      "Length of the 2nd side: 6.6\n",
      "Length of the 3rd side: 5\n",
      "Isosceles triangle\n"
     ]
    }
   ],
   "source": [
    "# Get the lengths of the three sides from the user\n",
    "side1 = float(input('Length of the 1st side: '))\n",
    "side2 = float(input('Length of the 2nd side: '))\n",
    "side3 = float(input('Length of the 3rd side: '))\n",
    "\n",
    "# Check the type of triangle based on the side lengths\n",
    "if side1 == side2 == side3:\n",
    "    print('Equilateral triangle')\n",
    "    \n",
    "elif side1 == side2 or side1 == side3 or side2 == side3:\n",
    "    print('Isosceles triangle')\n",
    "\n",
    "else:\n",
    "    print('Scalene triangle')"
   ]
  },
  {
   "cell_type": "markdown",
   "id": "ab6262f3",
   "metadata": {},
   "source": [
    "# For Loop Exercises:"
   ]
  },
  {
   "cell_type": "markdown",
   "id": "ce6e9efa",
   "metadata": {},
   "source": [
    "### 1. Write a Python program to print the numbers from 1 to 10 using a for loop."
   ]
  },
  {
   "cell_type": "code",
   "execution_count": 103,
   "id": "e6ea4816",
   "metadata": {},
   "outputs": [
    {
     "name": "stdout",
     "output_type": "stream",
     "text": [
      "1\n",
      "2\n",
      "3\n",
      "4\n",
      "5\n",
      "6\n",
      "7\n",
      "8\n",
      "9\n",
      "10\n"
     ]
    }
   ],
   "source": [
    "for i in range(1,11):\n",
    "    print(i)"
   ]
  },
  {
   "cell_type": "markdown",
   "id": "b9dadccb",
   "metadata": {},
   "source": [
    "### 2. Write a Python program to calculate the sum of all numbers in a list using a for loop."
   ]
  },
  {
   "cell_type": "code",
   "execution_count": 110,
   "id": "34056479",
   "metadata": {},
   "outputs": [
    {
     "name": "stdout",
     "output_type": "stream",
     "text": [
      "150\n"
     ]
    }
   ],
   "source": [
    "# Define a list of numbers\n",
    "lst = [10, 20, 30, 40, 50]\n",
    "\n",
    "# Initialize a variable to store the sum\n",
    "summ = 0\n",
    "\n",
    "# Iterate through the list and calculate the sum\n",
    "for i in lst:\n",
    "    summ += i\n",
    "\n",
    "# Print the sum of the numbers in the list\n",
    "print(summ)"
   ]
  },
  {
   "cell_type": "markdown",
   "id": "52892ab6",
   "metadata": {},
   "source": [
    "### 3. Write a Python program to find the factorial of a number using a for loop."
   ]
  },
  {
   "cell_type": "code",
   "execution_count": 111,
   "id": "3b44c8f8",
   "metadata": {},
   "outputs": [
    {
     "name": "stdout",
     "output_type": "stream",
     "text": [
      "Enter a number to find factorial: 6\n",
      "Factorial of 6 is: 720\n"
     ]
    }
   ],
   "source": [
    "# Get a number to find its factorial from the user\n",
    "num = int(input('Enter a number to find factorial: '))\n",
    "\n",
    "# Initialize a variable to store the factorial\n",
    "fact = 1\n",
    "\n",
    "# Calculate the factorial using a for loop\n",
    "for i in range(num, 0, -1):\n",
    "    fact *= i\n",
    "\n",
    "# Print the factorial of the input number\n",
    "print('Factorial of {} is: {}'.format(num, fact))"
   ]
  },
  {
   "cell_type": "markdown",
   "id": "d7440f16",
   "metadata": {},
   "source": [
    "### 4. Write a Python program to print all the even numbers between 1 and 50 using a for loop."
   ]
  },
  {
   "cell_type": "code",
   "execution_count": 112,
   "id": "7a87c60f",
   "metadata": {},
   "outputs": [
    {
     "name": "stdout",
     "output_type": "stream",
     "text": [
      "2\n",
      "4\n",
      "6\n",
      "8\n",
      "10\n",
      "12\n",
      "14\n",
      "16\n",
      "18\n",
      "20\n",
      "22\n",
      "24\n",
      "26\n",
      "28\n",
      "30\n",
      "32\n",
      "34\n",
      "36\n",
      "38\n",
      "40\n",
      "42\n",
      "44\n",
      "46\n",
      "48\n",
      "50\n"
     ]
    }
   ],
   "source": [
    "# for i in range(2,50,2):\n",
    "#     print(i)\n",
    "# Iterate through numbers from 1 to 50\n",
    "for i in range(1, 51):\n",
    "    # Check if the number is even\n",
    "    if i % 2 == 0:\n",
    "        print(i)"
   ]
  },
  {
   "cell_type": "markdown",
   "id": "a9de1e89",
   "metadata": {},
   "source": [
    "### 5. Write a Python program to iterate over a string and print each character using a for loop."
   ]
  },
  {
   "cell_type": "code",
   "execution_count": 113,
   "id": "3b004e5a",
   "metadata": {},
   "outputs": [
    {
     "name": "stdout",
     "output_type": "stream",
     "text": [
      "Enter a string: hello\n",
      "h\n",
      "e\n",
      "l\n",
      "l\n",
      "o\n"
     ]
    }
   ],
   "source": [
    "# Get a string as input from the user\n",
    "string = input(\"Enter a string: \")\n",
    "\n",
    "# Iterate through each character in the string and print it\n",
    "for i in string:\n",
    "    print(i)"
   ]
  },
  {
   "cell_type": "markdown",
   "id": "75453cf9",
   "metadata": {},
   "source": [
    "### 6. Write a Python program to iterate over a list of tuples and print each element using a for loop."
   ]
  },
  {
   "cell_type": "code",
   "execution_count": 114,
   "id": "c86e502b",
   "metadata": {},
   "outputs": [
    {
     "name": "stdout",
     "output_type": "stream",
     "text": [
      "1\n",
      "2\n",
      "3\n",
      "4\n",
      "5\n",
      "6\n"
     ]
    }
   ],
   "source": [
    "# Define a list of tuples\n",
    "lst = [(1, 2), (3, 4), (5, 6)]\n",
    "\n",
    "# Iterate through the list of tuples\n",
    "for tupl in lst:\n",
    "    # Iterate through the elements in each tuple\n",
    "    for ele in tupl:\n",
    "        print(ele)"
   ]
  },
  {
   "cell_type": "markdown",
   "id": "389781a8",
   "metadata": {},
   "source": [
    "### 7. Write a Python program to find the largest element in a list using a for loop."
   ]
  },
  {
   "cell_type": "code",
   "execution_count": 115,
   "id": "a86b7cd6",
   "metadata": {},
   "outputs": [
    {
     "name": "stdout",
     "output_type": "stream",
     "text": [
      "Largest element in the list: 10\n"
     ]
    }
   ],
   "source": [
    "# Define a list of numbers\n",
    "lst = [1, 5, 3, 4, 6, 7, 9, 4, 10, 8]\n",
    "\n",
    "# Initialize a variable to store the largest element and set it to the first element in the list\n",
    "largest = lst[0]\n",
    "\n",
    "# Iterate through the list to find the largest element\n",
    "for ele in lst:\n",
    "    if largest < ele:\n",
    "        largest = ele\n",
    "\n",
    "# Print the largest element in the list\n",
    "print('Largest element in the list:', largest)"
   ]
  },
  {
   "cell_type": "markdown",
   "id": "a3d71040",
   "metadata": {},
   "source": [
    "### 8. Write a Python program to check if all elements in a list are even using a for loop."
   ]
  },
  {
   "cell_type": "code",
   "execution_count": 117,
   "id": "cdd4edfd",
   "metadata": {},
   "outputs": [
    {
     "name": "stdout",
     "output_type": "stream",
     "text": [
      "All elements in the list are even\n"
     ]
    }
   ],
   "source": [
    "# Define a list of numbers\n",
    "lst = [2, 4, 6, 8, 10]\n",
    "\n",
    "# Initialize a variable to track if all elements are even and set it to True\n",
    "even = True\n",
    "\n",
    "# Iterate through the list to check if all elements are even\n",
    "for ele in lst:\n",
    "    if ele % 2 != 0:\n",
    "        even = False\n",
    "\n",
    "# Check the 'even' flag and print the result\n",
    "if even:\n",
    "    print('All elements in the list are even')\n",
    "else:\n",
    "    print('Not all elements in the list are even')"
   ]
  },
  {
   "cell_type": "markdown",
   "id": "4059e4cd",
   "metadata": {},
   "source": [
    "### 9. Write a Python program to find the common elements between two lists using a for loop."
   ]
  },
  {
   "cell_type": "code",
   "execution_count": 118,
   "id": "509c6651",
   "metadata": {},
   "outputs": [
    {
     "name": "stdout",
     "output_type": "stream",
     "text": [
      "[5, 9, 10]\n"
     ]
    }
   ],
   "source": [
    "# Define two lists of numbers\n",
    "lst1 = [1, 5, 7, 9, 4, 10]\n",
    "lst2 = [5, 6, 9, 10, 3, 2]\n",
    "\n",
    "# Initialize an empty list to store the common elements\n",
    "comm_ele = []\n",
    "\n",
    "# Iterate through the elements in the first list\n",
    "for ele in lst1:\n",
    "    # Check if the element is in the second list\n",
    "    if ele in lst2:\n",
    "        # Append the common element to the 'comm_ele' list\n",
    "        comm_ele.append(ele)\n",
    "\n",
    "# Print the list of common elements\n",
    "print(comm_ele)"
   ]
  },
  {
   "cell_type": "markdown",
   "id": "152f4bcf",
   "metadata": {},
   "source": [
    "### 10. Write a Python program to calculate the sum of the digits of a number using a for loop."
   ]
  },
  {
   "cell_type": "code",
   "execution_count": 119,
   "id": "1f8c847c",
   "metadata": {},
   "outputs": [
    {
     "name": "stdout",
     "output_type": "stream",
     "text": [
      "Enter a number to find the sum of its digits: 365\n",
      "Sum of the digits: 14\n"
     ]
    }
   ],
   "source": [
    "# Get a number as input from the user\n",
    "num = int(input('Enter a number to find the sum of its digits: '))\n",
    "\n",
    "# Convert the number to a string to iterate through its digits\n",
    "num_str = str(num)\n",
    "\n",
    "# Initialize a variable to store the sum of the digits\n",
    "summ = 0\n",
    "\n",
    "# Iterate through each digit in the string\n",
    "for digit in num_str:\n",
    "    summ += int(digit)\n",
    "\n",
    "# Print the sum of the digits\n",
    "print('Sum of the digits:', summ)"
   ]
  },
  {
   "cell_type": "markdown",
   "id": "bc39693d",
   "metadata": {},
   "source": [
    "# While Loop Exercises:"
   ]
  },
  {
   "cell_type": "markdown",
   "id": "b3dea5a0",
   "metadata": {},
   "source": [
    "### 1. Write a Python program to print the numbers from 1 to 10 using a while loop."
   ]
  },
  {
   "cell_type": "code",
   "execution_count": 120,
   "id": "07b99726",
   "metadata": {},
   "outputs": [
    {
     "name": "stdout",
     "output_type": "stream",
     "text": [
      "1\n",
      "2\n",
      "3\n",
      "4\n",
      "5\n",
      "6\n",
      "7\n",
      "8\n",
      "9\n",
      "10\n"
     ]
    }
   ],
   "source": [
    "# Initialize a variable to start at 1\n",
    "i = 1\n",
    "\n",
    "# Use a while loop to print numbers from 1 to 10\n",
    "while i <= 10:\n",
    "    print(i)\n",
    "    i += 1"
   ]
  },
  {
   "cell_type": "markdown",
   "id": "7f5ba05d",
   "metadata": {},
   "source": [
    "### 2. Write a Python program to calculate the sum of all numbers from 1 to 100 using a while loop."
   ]
  },
  {
   "cell_type": "code",
   "execution_count": 121,
   "id": "7a7e411d",
   "metadata": {},
   "outputs": [
    {
     "name": "stdout",
     "output_type": "stream",
     "text": [
      "5050\n"
     ]
    }
   ],
   "source": [
    "# Initialize a variable to start at 1\n",
    "i = 1\n",
    "\n",
    "# Initialize a variable to store the sum\n",
    "summ = 0\n",
    "\n",
    "# Use a while loop to add numbers from 1 to 100 and calculate the sum\n",
    "while i <= 100:\n",
    "    summ += i\n",
    "    i += 1\n",
    "\n",
    "# Print the sum of numbers from 1 to 100\n",
    "print(summ)"
   ]
  },
  {
   "cell_type": "markdown",
   "id": "acbc3b26",
   "metadata": {},
   "source": [
    "### 3. Write a Python program to find the factorial of a number using a while loop."
   ]
  },
  {
   "cell_type": "code",
   "execution_count": 135,
   "id": "f73d517f",
   "metadata": {},
   "outputs": [
    {
     "name": "stdout",
     "output_type": "stream",
     "text": [
      "Enter a number to find factorial: 5\n",
      "Factorial of number 0 is 120\n"
     ]
    }
   ],
   "source": [
    "# Get a number as input from the user\n",
    "num = int(input('Enter a number to find factorial: '))\n",
    "\n",
    "# Initialize a variable to store the factorial\n",
    "fact = 1\n",
    "\n",
    "# Calculate the factorial using a while loop\n",
    "while num > 0:\n",
    "    fact *= num\n",
    "    num -= 1\n",
    "\n",
    "# Print the factorial of the input number\n",
    "print('Factorial of number {} is {}'.format(num, fact))"
   ]
  },
  {
   "cell_type": "markdown",
   "id": "7b52877c",
   "metadata": {},
   "source": [
    "### 4. Write a Python program to print all the even numbers between 1 and 50 using a while loop."
   ]
  },
  {
   "cell_type": "code",
   "execution_count": 123,
   "id": "e28b25bf",
   "metadata": {},
   "outputs": [
    {
     "name": "stdout",
     "output_type": "stream",
     "text": [
      "2\n",
      "4\n",
      "6\n",
      "8\n",
      "10\n",
      "12\n",
      "14\n",
      "16\n",
      "18\n",
      "20\n",
      "22\n",
      "24\n",
      "26\n",
      "28\n",
      "30\n",
      "32\n",
      "34\n",
      "36\n",
      "38\n",
      "40\n",
      "42\n",
      "44\n",
      "46\n",
      "48\n",
      "50\n"
     ]
    }
   ],
   "source": [
    "# Initialize a variable to start at 1\n",
    "i = 1\n",
    "\n",
    "# Use a while loop to check and print even numbers from 1 to 50\n",
    "while i <= 50:\n",
    "    if i % 2 == 0:\n",
    "        print(i)\n",
    "    i += 1"
   ]
  },
  {
   "cell_type": "markdown",
   "id": "f0106e22",
   "metadata": {},
   "source": [
    "### 5. Write a Python program to iterate over a string and print each character using a while loop."
   ]
  },
  {
   "cell_type": "code",
   "execution_count": 124,
   "id": "3ce6cbea",
   "metadata": {},
   "outputs": [
    {
     "name": "stdout",
     "output_type": "stream",
     "text": [
      "Enter a string: hello\n",
      "h\n",
      "e\n",
      "l\n",
      "l\n",
      "o\n"
     ]
    }
   ],
   "source": [
    "# Get a string as input from the user\n",
    "string = input('Enter a string: ')\n",
    "\n",
    "# Initialize an index variable to start at 0\n",
    "i = 0\n",
    "\n",
    "# Use a while loop to iterate through the characters in the string and print them\n",
    "while i < len(string):\n",
    "    print(string[i])\n",
    "    i += 1"
   ]
  },
  {
   "cell_type": "markdown",
   "id": "2195498c",
   "metadata": {},
   "source": [
    "### 6. Write a Python program to iterate over a list of tuples and print each element using a while loop."
   ]
  },
  {
   "cell_type": "code",
   "execution_count": 130,
   "id": "80788f2c",
   "metadata": {},
   "outputs": [
    {
     "name": "stdout",
     "output_type": "stream",
     "text": [
      "1\n",
      "2\n",
      "3\n",
      "4\n",
      "5\n",
      "6\n"
     ]
    }
   ],
   "source": [
    "# Define a list of tuples\n",
    "lst = [(1, 2), (3, 4), (5, 6)]\n",
    "\n",
    "# Initialize an index variable to start at 0\n",
    "i = 0\n",
    "\n",
    "# Use a while loop to iterate through the list of tuples\n",
    "while i < len(lst):\n",
    "    ele = lst[i]\n",
    "    \n",
    "    # Iterate through the elements in each tuple\n",
    "    for e in ele:\n",
    "        print(e)\n",
    "    \n",
    "    i += 1"
   ]
  },
  {
   "cell_type": "markdown",
   "id": "67830be2",
   "metadata": {},
   "source": [
    "### 7. Write a Python program to find the largest element in a list using a while loop."
   ]
  },
  {
   "cell_type": "code",
   "execution_count": 131,
   "id": "3ac4100c",
   "metadata": {},
   "outputs": [
    {
     "name": "stdout",
     "output_type": "stream",
     "text": [
      "Largest element in the list: 9\n"
     ]
    }
   ],
   "source": [
    "# Define a list of numbers\n",
    "lst = [1, 2, 4, 5, 6, 7, 8, 9]\n",
    "\n",
    "# Initialize a variable to store the largest element and set it to the first element in the list\n",
    "largest = lst[0]\n",
    "\n",
    "# Initialize an index variable to start at 0\n",
    "i = 0\n",
    "\n",
    "# Use a while loop to find the largest element in the list\n",
    "while i < len(lst):\n",
    "    if lst[i] > largest:\n",
    "        largest = lst[i]\n",
    "    i += 1\n",
    "\n",
    "# Print the largest element in the list\n",
    "print('Largest element in the list:', largest)"
   ]
  },
  {
   "cell_type": "markdown",
   "id": "e3573e74",
   "metadata": {},
   "source": [
    "### 8. Write a Python program to check if all elements in a list are even using a while loop."
   ]
  },
  {
   "cell_type": "code",
   "execution_count": 132,
   "id": "f5275c4e",
   "metadata": {},
   "outputs": [
    {
     "name": "stdout",
     "output_type": "stream",
     "text": [
      "All elements in the list are even\n"
     ]
    }
   ],
   "source": [
    "# Define a list of numbers\n",
    "lst = [2, 4, 50, 8, 10]\n",
    "\n",
    "# Initialize a variable to track if all elements are even and set it to True\n",
    "even = True\n",
    "\n",
    "# Initialize an index variable to start at 0\n",
    "i = 0\n",
    "\n",
    "# Use a while loop to check if all elements are even\n",
    "while i < len(lst):\n",
    "    if lst[i] % 2 != 0:\n",
    "        even = False\n",
    "        break\n",
    "    i += 1\n",
    "\n",
    "# Check the 'even' flag and print the result\n",
    "if even:\n",
    "    print('All elements in the list are even')\n",
    "else:\n",
    "    print('Not all elements in the list are even')"
   ]
  },
  {
   "cell_type": "markdown",
   "id": "d6fadfc2",
   "metadata": {},
   "source": [
    "### 9. Write a Python program to find the common elements between two lists using a while loop."
   ]
  },
  {
   "cell_type": "code",
   "execution_count": 134,
   "id": "cb263c07",
   "metadata": {},
   "outputs": [
    {
     "name": "stdout",
     "output_type": "stream",
     "text": [
      "Common elements: [4, 5, 6]\n"
     ]
    }
   ],
   "source": [
    "# Define two lists of numbers\n",
    "lst1 = [1, 2, 3, 4, 5, 6]\n",
    "lst2 = [4, 5, 6, 7, 8, 9]\n",
    "\n",
    "# Initialize an index variable to start at 0\n",
    "i = 0\n",
    "\n",
    "# Initialize an empty list to store the common elements\n",
    "comm_ele = []\n",
    "\n",
    "# Use a while loop to find and collect common elements\n",
    "while i < len(lst1):\n",
    "    ele = lst1[i]\n",
    "    if ele in lst2:\n",
    "        comm_ele.append(ele)\n",
    "    i += 1\n",
    "\n",
    "# Print the list of common elements\n",
    "print('Common elements:', comm_ele)"
   ]
  },
  {
   "cell_type": "markdown",
   "id": "f5d3634a",
   "metadata": {},
   "source": [
    "### 10. Write a Python program to calculate the sum of the digits of a number using a while loop."
   ]
  },
  {
   "cell_type": "code",
   "execution_count": 136,
   "id": "0dc65099",
   "metadata": {},
   "outputs": [
    {
     "name": "stdout",
     "output_type": "stream",
     "text": [
      "Enter a number to find the sum of its digits: 265\n",
      "Sum of the digits: 13\n"
     ]
    }
   ],
   "source": [
    "# Get a number as input from the user\n",
    "num = int(input('Enter a number to find the sum of its digits: '))\n",
    "\n",
    "# Initialize a variable to store the sum of the digits\n",
    "summ = 0\n",
    "\n",
    "# Use a while loop to calculate the sum of the digits\n",
    "while num > 0:\n",
    "    # Get the last digit\n",
    "    digit = num % 10\n",
    "    # Add the last digit to the sum\n",
    "    summ += digit\n",
    "    # Remove the last digit from the number\n",
    "    num = int(num / 10)\n",
    "\n",
    "# Print the sum of the digits\n",
    "print('Sum of the digits:', summ)"
   ]
  },
  {
   "cell_type": "markdown",
   "id": "793d2c35",
   "metadata": {},
   "source": [
    "# Break Statement Exercises:"
   ]
  },
  {
   "cell_type": "markdown",
   "id": "47a96c1f",
   "metadata": {},
   "source": [
    "### 1. Write a Python program to find the first occurrence of a number in a list using a for loop and break statement."
   ]
  },
  {
   "cell_type": "code",
   "execution_count": 137,
   "id": "ca63f27a",
   "metadata": {},
   "outputs": [
    {
     "name": "stdout",
     "output_type": "stream",
     "text": [
      "The number 6 is found at index 5\n"
     ]
    }
   ],
   "source": [
    "# Define a list of numbers\n",
    "lst = [1, 3, 2, 4, 5, 6, 7, 2, 1, 3, 4, 6, 8, 5]\n",
    "\n",
    "# Define the target number to find\n",
    "number = 6\n",
    "\n",
    "# Initialize a variable to track if the target is found\n",
    "target = False\n",
    "\n",
    "# Use a for loop to enumerate the list and find the target number\n",
    "for i, num in enumerate(lst):\n",
    "    if num == number:\n",
    "        target = True\n",
    "        print('The number {} is found at index {}'.format(number, i))\n",
    "        break\n",
    "\n",
    "# Check the 'target' flag and print the result\n",
    "if not target:\n",
    "    print('Number {} not found'.format(number))"
   ]
  },
  {
   "cell_type": "markdown",
   "id": "20235cf6",
   "metadata": {},
   "source": [
    "### 2. Write a Python program to search for a specific element in a list using a while loop and break statement."
   ]
  },
  {
   "cell_type": "code",
   "execution_count": 138,
   "id": "694ec1d1",
   "metadata": {},
   "outputs": [
    {
     "name": "stdout",
     "output_type": "stream",
     "text": [
      "Element 5 found at index 3\n"
     ]
    }
   ],
   "source": [
    "# Define a list of numbers\n",
    "lst = [1, 3, 4, 5, 8, 9, 7]\n",
    "\n",
    "# Initialize an index variable to start at 0\n",
    "i = 0\n",
    "\n",
    "# Define the target element to find\n",
    "target = 5\n",
    "\n",
    "# Use a while loop to find the target element in the list\n",
    "while i < len(lst):\n",
    "    if lst[i] == target:\n",
    "        print('Element {} found at index {}'.format(target, i))\n",
    "        break\n",
    "    i += 1"
   ]
  },
  {
   "cell_type": "markdown",
   "id": "0874f3d0",
   "metadata": {},
   "source": [
    "### 3. Write a Python program to find the prime numbers between 1 and 100 using a for loop and break statement."
   ]
  },
  {
   "cell_type": "code",
   "execution_count": 139,
   "id": "b452e4eb",
   "metadata": {},
   "outputs": [
    {
     "name": "stdout",
     "output_type": "stream",
     "text": [
      "1\n",
      "2\n",
      "3\n",
      "5\n",
      "7\n",
      "11\n",
      "13\n",
      "17\n",
      "19\n",
      "23\n",
      "29\n",
      "31\n",
      "37\n",
      "41\n",
      "43\n",
      "47\n",
      "53\n",
      "59\n",
      "61\n",
      "67\n",
      "71\n",
      "73\n",
      "79\n",
      "83\n",
      "89\n",
      "97\n"
     ]
    }
   ],
   "source": [
    "# Iterate through numbers from 1 to 100\n",
    "for num in range(1, 100 + 1):\n",
    "    prime = True\n",
    "\n",
    "    # Check if the current number is prime\n",
    "    for i in range(2, int(num / 2) + 1):\n",
    "        if num % i == 0:\n",
    "            prime = False\n",
    "            break\n",
    "\n",
    "    # If the current number is prime, print it\n",
    "    if prime:\n",
    "        print(num)"
   ]
  },
  {
   "cell_type": "markdown",
   "id": "c5459c53",
   "metadata": {},
   "source": [
    "### 4. Write a Python program to check if a number is present in a list using a while loop and break statement."
   ]
  },
  {
   "cell_type": "code",
   "execution_count": 140,
   "id": "9c75147d",
   "metadata": {},
   "outputs": [
    {
     "name": "stdout",
     "output_type": "stream",
     "text": [
      "5 is present in the list\n"
     ]
    }
   ],
   "source": [
    "# Define a list of numbers\n",
    "lst = [1, 5, 4, 6, 2, 3, 8]\n",
    "\n",
    "# Initialize an index variable to start at 0\n",
    "i = 0\n",
    "\n",
    "# Define the target number to check\n",
    "target = 5\n",
    "\n",
    "# Initialize a variable to track if the target is found\n",
    "found = False\n",
    "\n",
    "# Use a while loop to search for the target number in the list\n",
    "while i < len(lst):\n",
    "    if lst[i] == target:\n",
    "        found = True\n",
    "        break\n",
    "    i += 1\n",
    "\n",
    "# Check the 'found' flag and print the result\n",
    "if found:\n",
    "    print('{} is present in the list'.format(target))\n",
    "else:\n",
    "    print('{} is not present in the list'.format(target))"
   ]
  },
  {
   "cell_type": "markdown",
   "id": "083a5e20",
   "metadata": {},
   "source": [
    "### 5. Write a Python program to find the largest palindrome number in a given range using a for loop and break statement"
   ]
  },
  {
   "cell_type": "code",
   "execution_count": 9,
   "id": "182e375b",
   "metadata": {},
   "outputs": [
    {
     "name": "stdout",
     "output_type": "stream",
     "text": [
      "Enter the start of the range: 5\n",
      "Enter the end of the range: 84\n",
      "The largest palindrome number in the range is 77.\n"
     ]
    }
   ],
   "source": [
    "# Input the range from the user\n",
    "start = int(input(\"Enter the start of the range: \"))\n",
    "end = int(input(\"Enter the end of the range: \"))\n",
    "\n",
    "# Initialize a variable to store the largest palindrome number\n",
    "largest_palindrome = -1\n",
    "\n",
    "# Iterate through numbers in the range, from end to start, inclusive\n",
    "for num in range(end, start - 1, -1):\n",
    "    # Check if the number is equal to its reverse (a palindrome)\n",
    "    if str(num) == str(num)[::-1]:\n",
    "        largest_palindrome = num\n",
    "        # Break the loop as we've found the largest palindrome\n",
    "        break\n",
    "\n",
    "# Check if a palindrome number was found\n",
    "if largest_palindrome != -1:\n",
    "    print(f\"The largest palindrome number in the range is {largest_palindrome}.\")\n",
    "else:\n",
    "    print(\"No palindrome number found in the range.\")"
   ]
  },
  {
   "cell_type": "markdown",
   "id": "e0c8dc5e",
   "metadata": {},
   "source": [
    "### 6. Write a Python program to find the first negative number in a list using a while loop and break statement."
   ]
  },
  {
   "cell_type": "code",
   "execution_count": 141,
   "id": "c65c428f",
   "metadata": {},
   "outputs": [
    {
     "name": "stdout",
     "output_type": "stream",
     "text": [
      "First negative number is -3\n"
     ]
    }
   ],
   "source": [
    "# Define a list of numbers\n",
    "lst = [1, 3, 4, 5, 2, -3, -8, 7]\n",
    "\n",
    "# Initialize an index variable to start at 0\n",
    "i = 0\n",
    "\n",
    "# Initialize a variable to track if a negative number is found\n",
    "found = False\n",
    "\n",
    "# Use a while loop to find the first negative number in the list\n",
    "while i < len(lst):\n",
    "    if lst[i] < 0:\n",
    "        found = True\n",
    "        break\n",
    "    i += 1\n",
    "\n",
    "# Check the 'found' flag and print the result\n",
    "if found:\n",
    "    print('First negative number is {}'.format(lst[i]))\n",
    "else:\n",
    "    print('No negative number found')"
   ]
  },
  {
   "cell_type": "markdown",
   "id": "ae6022e9",
   "metadata": {},
   "source": [
    "### 7. Write a Python program to print the elements of a list until a specific condition is met using a for loop and break statement."
   ]
  },
  {
   "cell_type": "code",
   "execution_count": 142,
   "id": "971d41a0",
   "metadata": {},
   "outputs": [
    {
     "name": "stdout",
     "output_type": "stream",
     "text": [
      "-9\n",
      "-5\n",
      "-4\n",
      "-3\n"
     ]
    }
   ],
   "source": [
    "# Define a list of numbers\n",
    "lst = [1, -3, 0, 5, 8, -9, -4, 6, -5]\n",
    "\n",
    "# Sort the list in ascending order\n",
    "for num in sorted(lst):\n",
    "    # Print negative numbers until a non-negative number is encountered\n",
    "    if num >= 0:\n",
    "        break\n",
    "    print(num)"
   ]
  },
  {
   "cell_type": "markdown",
   "id": "7730cf64",
   "metadata": {},
   "source": [
    "### 8. Write a Python program to search for a specific character in a string using a while loop and break statement."
   ]
  },
  {
   "cell_type": "code",
   "execution_count": 143,
   "id": "316190aa",
   "metadata": {},
   "outputs": [
    {
     "name": "stdout",
     "output_type": "stream",
     "text": [
      "Enter a string: hello world\n",
      "Character w found at index 6\n"
     ]
    }
   ],
   "source": [
    "# Input a string\n",
    "string = input('Enter a string: ')\n",
    "\n",
    "# Initialize an index variable to start at 0\n",
    "i = 0\n",
    "\n",
    "# Define the target character to find\n",
    "target = 'w'\n",
    "\n",
    "# Use a while loop to search for the target character in the string\n",
    "while i < len(string):\n",
    "    if string[i] == target:\n",
    "        print('Character {} found at index {}'.format(string[i], i))\n",
    "        break\n",
    "    i += 1"
   ]
  },
  {
   "cell_type": "markdown",
   "id": "d04ea2c6",
   "metadata": {},
   "source": [
    "### 9. Write a Python program to find the first occurrence of a vowel in a string using a for loop and break statement."
   ]
  },
  {
   "cell_type": "code",
   "execution_count": 144,
   "id": "eeb5dbbb",
   "metadata": {},
   "outputs": [
    {
     "name": "stdout",
     "output_type": "stream",
     "text": [
      "Enter a string: hello world\n",
      "First vowel in the string is e at index 1\n"
     ]
    }
   ],
   "source": [
    "# Input a string\n",
    "string = input('Enter a string: ')\n",
    "\n",
    "# Define a list of vowels\n",
    "vowels = ['a', 'e', 'i', 'o', 'u']\n",
    "\n",
    "# Use a for loop to iterate over the characters in the string\n",
    "for index, char in enumerate(string.lower()):\n",
    "    if char in vowels:\n",
    "        print('First vowel in the string is {} at index {}'.format(char, index))\n",
    "        break"
   ]
  },
  {
   "cell_type": "markdown",
   "id": "735b2bdb",
   "metadata": {},
   "source": [
    "### 10. Write a Python program to find the index of the first occurrence of a substring in a string using a while loop and break statement."
   ]
  },
  {
   "cell_type": "code",
   "execution_count": 145,
   "id": "32ca73ea",
   "metadata": {},
   "outputs": [
    {
     "name": "stdout",
     "output_type": "stream",
     "text": [
      "Enter a string: are you ok\n",
      "Substring ok found at index 8\n"
     ]
    }
   ],
   "source": [
    "# Input a string\n",
    "string = input('Enter a string: ')\n",
    "\n",
    "# Define the substring to find\n",
    "substr = 'ok'\n",
    "\n",
    "# Initialize variables for tracking found substrings\n",
    "found = False\n",
    "index = -1\n",
    "\n",
    "# Use a while loop to find and print all occurrences of the substring\n",
    "while True:\n",
    "    index = string.find(substr, index + 1)\n",
    "    if index == -1:\n",
    "        break\n",
    "    print('Substring {} found at index {}'.format(substr, index))\n",
    "    found = True\n",
    "\n",
    "# Check if the substring was not found at all\n",
    "if not found:\n",
    "    print('Substring {} not found'.format(substr))"
   ]
  },
  {
   "cell_type": "markdown",
   "id": "6f5f83ad",
   "metadata": {},
   "source": [
    "# Continue Statement Exercises:"
   ]
  },
  {
   "cell_type": "markdown",
   "id": "fa543439",
   "metadata": {},
   "source": [
    "### 1. Write a Python program to print all the even numbers between 1 and 20 except for the number 10 using a for loop and continue statement."
   ]
  },
  {
   "cell_type": "code",
   "execution_count": 146,
   "id": "6bd79886",
   "metadata": {},
   "outputs": [
    {
     "name": "stdout",
     "output_type": "stream",
     "text": [
      "2\n",
      "4\n",
      "6\n",
      "8\n",
      "12\n",
      "14\n",
      "16\n",
      "18\n"
     ]
    }
   ],
   "source": [
    "# Use a for loop to iterate through numbers from 1 to 19\n",
    "for i in range(1, 20):\n",
    "    # Skip the number 10\n",
    "    if i == 10:\n",
    "        continue\n",
    "    # Print even numbers\n",
    "    elif i % 2 == 0:\n",
    "        print(i)"
   ]
  },
  {
   "cell_type": "markdown",
   "id": "4052ccbb",
   "metadata": {},
   "source": [
    "### 2. Write a Python program to print the elements of a list skipping the negative numbers using a while loop and continue statement."
   ]
  },
  {
   "cell_type": "code",
   "execution_count": 147,
   "id": "4bfe0cde",
   "metadata": {},
   "outputs": [
    {
     "name": "stdout",
     "output_type": "stream",
     "text": [
      "2\n",
      "5\n",
      "8\n",
      "4\n"
     ]
    }
   ],
   "source": [
    "# Define a list of numbers\n",
    "lst = [-1, 2, 5, -6, 8, -9, 4, -6]\n",
    "\n",
    "# Initialize an index variable\n",
    "i = 0\n",
    "\n",
    "# Use a while loop to iterate through the list\n",
    "while i < len(lst):\n",
    "    # Skip negative numbers\n",
    "    if lst[i] < 0:\n",
    "        i += 1\n",
    "        continue\n",
    "    # Print positive numbers\n",
    "    print(lst[i])\n",
    "    i += 1"
   ]
  },
  {
   "cell_type": "markdown",
   "id": "e0476e01",
   "metadata": {},
   "source": [
    "### 3. Write a Python program to print the first 10 multiples of 3 except for the number 9 using a for loop and continue statement."
   ]
  },
  {
   "cell_type": "code",
   "execution_count": 148,
   "id": "bc83b3d9",
   "metadata": {},
   "outputs": [
    {
     "name": "stdout",
     "output_type": "stream",
     "text": [
      "3\n",
      "6\n",
      "12\n",
      "15\n",
      "18\n",
      "21\n",
      "24\n",
      "27\n",
      "30\n",
      "33\n"
     ]
    }
   ],
   "source": [
    "# Initialize a count variable\n",
    "count = 0\n",
    "\n",
    "# Use a for loop to iterate through numbers from 3 to 99, skipping 9\n",
    "for i in range(3, 100, 3):\n",
    "    # Skip the number 9\n",
    "    if i == 9:\n",
    "        continue\n",
    "    # Print the number\n",
    "    print(i)\n",
    "    # Increment the count\n",
    "    count += 1\n",
    "    # Break the loop after printing 10 numbers\n",
    "    if count == 10:\n",
    "        break"
   ]
  },
  {
   "cell_type": "markdown",
   "id": "a7b4d419",
   "metadata": {},
   "source": [
    "### 4. Write a Python program to iterate over a string and print only the consonants using a for loop and continue statement."
   ]
  },
  {
   "cell_type": "code",
   "execution_count": 149,
   "id": "e155e455",
   "metadata": {},
   "outputs": [
    {
     "name": "stdout",
     "output_type": "stream",
     "text": [
      "enter a string :hello there\n",
      "hll thr"
     ]
    }
   ],
   "source": [
    "# Get a string input from the user\n",
    "string = input('enter a string :')\n",
    "\n",
    "# Define a list of vowels\n",
    "vowels = ['a', 'e', 'i', 'o', 'u']\n",
    "\n",
    "# Iterate through each character in the string\n",
    "for char in string.lower():\n",
    "    # Check if the character is a vowel, and continue to the next character if it is\n",
    "    if char in vowels:\n",
    "        continue\n",
    "    # Print the character (excluding vowels) without a newline\n",
    "    print(char, end='')"
   ]
  },
  {
   "cell_type": "markdown",
   "id": "2f4c9dae",
   "metadata": {},
   "source": [
    "### 5. Write a Python program to print the elements of a list skipping the even numbers using a while loop and continue statement."
   ]
  },
  {
   "cell_type": "code",
   "execution_count": 150,
   "id": "8409bc27",
   "metadata": {},
   "outputs": [
    {
     "name": "stdout",
     "output_type": "stream",
     "text": [
      "1\n",
      "3\n",
      "5\n",
      "7\n",
      "9\n"
     ]
    }
   ],
   "source": [
    "# Define a list of numbers\n",
    "lst = [1, 2, 3, 4, 5, 6, 7, 8, 9]\n",
    "\n",
    "# Initialize an index variable\n",
    "i = 0\n",
    "\n",
    "# Use a while loop to iterate through the list\n",
    "while i < len(lst):\n",
    "    # Skip even numbers\n",
    "    if lst[i] % 2 == 0:\n",
    "        i += 1\n",
    "        continue\n",
    "    # Print odd numbers\n",
    "    print(lst[i])\n",
    "    i += 1"
   ]
  },
  {
   "cell_type": "markdown",
   "id": "49a5952e",
   "metadata": {},
   "source": [
    "### 6. Write a Python program to find the sum of all numbers between 1 and 100, excluding the multiples of 5 using a for loop and continue statement"
   ]
  },
  {
   "cell_type": "code",
   "execution_count": 151,
   "id": "987e7826",
   "metadata": {},
   "outputs": [
    {
     "data": {
      "text/plain": [
       "4000"
      ]
     },
     "execution_count": 151,
     "metadata": {},
     "output_type": "execute_result"
    }
   ],
   "source": [
    "# Initialize a variable for sum\n",
    "summ = 0\n",
    "\n",
    "# Iterate through numbers from 1 to 99\n",
    "for i in range(1, 100):\n",
    "    # Skip numbers that are multiples of 5\n",
    "    if i % 5 == 0:\n",
    "        continue\n",
    "    # Add the current number to the sum\n",
    "    summ += i\n",
    "\n",
    "# Print the final sum\n",
    "summ"
   ]
  },
  {
   "cell_type": "markdown",
   "id": "12f5a4b1",
   "metadata": {},
   "source": [
    "### 7. Write a Python program to print the uppercase letters in a string using a while loop and continue statement."
   ]
  },
  {
   "cell_type": "code",
   "execution_count": 153,
   "id": "ab38178c",
   "metadata": {},
   "outputs": [
    {
     "name": "stdout",
     "output_type": "stream",
     "text": [
      "Enter a string: how Are You\n",
      " A Y"
     ]
    }
   ],
   "source": [
    "# Take user input for a string\n",
    "string = input('Enter a string: ')\n",
    "\n",
    "# Initialize an index variable\n",
    "i = 0\n",
    "\n",
    "# Use a while loop to iterate through the string\n",
    "while i < len(string):\n",
    "    # Iterate through each character in the string\n",
    "    for char in string:\n",
    "        # Check if the character is lowercase\n",
    "        if char.islower():\n",
    "            i += 1\n",
    "            continue\n",
    "        # Print characters that are not lowercase\n",
    "        print(char, end='')\n",
    "        i += 1"
   ]
  },
  {
   "cell_type": "markdown",
   "id": "4214078e",
   "metadata": {},
   "source": [
    "### 8. Write a Python program to print the elements of a list skipping the elements divisible by 3 using a for loop and continue statement."
   ]
  },
  {
   "cell_type": "code",
   "execution_count": 154,
   "id": "e4bc338c",
   "metadata": {},
   "outputs": [
    {
     "name": "stdout",
     "output_type": "stream",
     "text": [
      "1\n",
      "2\n",
      "5\n",
      "4\n",
      "7\n",
      "8\n",
      "4\n",
      "5\n",
      "8\n",
      "11\n",
      "25\n"
     ]
    }
   ],
   "source": [
    "# Create a list of integers\n",
    "lst = [1, 2, 3, 5, 4, 6, 7, 8, 9, 4, 5, 8, 11, 25, 27, 12, 18, 15]\n",
    "\n",
    "# Iterate through the list\n",
    "for ele in lst:\n",
    "    # Check if the element is divisible by 3\n",
    "    if ele % 3 == 0:\n",
    "        continue\n",
    "    # Print elements that are not divisible by 3\n",
    "    print(ele)"
   ]
  },
  {
   "cell_type": "markdown",
   "id": "655e6415",
   "metadata": {},
   "source": [
    "### 9. Write a Python program to iterate over a list of tuples and print only the tuples with a specific condition using a while loop and continue statement."
   ]
  },
  {
   "cell_type": "code",
   "execution_count": 155,
   "id": "dc7fa4d8",
   "metadata": {},
   "outputs": [
    {
     "name": "stdout",
     "output_type": "stream",
     "text": [
      "(1, 2)\n",
      "(3, 4)\n"
     ]
    }
   ],
   "source": [
    "# Create a list of tuples\n",
    "lst = [(1, 2), (2, 3), (3, 4), (4, 5)]\n",
    "\n",
    "# Initialize an index variable\n",
    "i = 0\n",
    "\n",
    "# Iterate through the list\n",
    "while i < len(lst):\n",
    "    # Get the current tuple\n",
    "    tupl = lst[i]\n",
    "    \n",
    "    # Check if the first element of the tuple is even\n",
    "    if tupl[0] % 2 == 0:\n",
    "        i += 1\n",
    "        continue\n",
    "    \n",
    "    # Print tuples where the first element is not even\n",
    "    print(tupl)\n",
    "    \n",
    "    # Increment the index\n",
    "    i += 1"
   ]
  },
  {
   "cell_type": "markdown",
   "id": "f3f27c4d",
   "metadata": {},
   "source": [
    "### 10. Write a Python program to print the numbers from 1 to 50, skipping the multiples of 7 using a for loop and continue statement."
   ]
  },
  {
   "cell_type": "code",
   "execution_count": 156,
   "id": "b27b78fe",
   "metadata": {},
   "outputs": [
    {
     "name": "stdout",
     "output_type": "stream",
     "text": [
      "1\n",
      "2\n",
      "3\n",
      "4\n",
      "5\n",
      "6\n",
      "8\n",
      "9\n",
      "10\n",
      "11\n",
      "12\n",
      "13\n",
      "15\n",
      "16\n",
      "17\n",
      "18\n",
      "19\n",
      "20\n",
      "22\n",
      "23\n",
      "24\n",
      "25\n",
      "26\n",
      "27\n",
      "29\n",
      "30\n",
      "31\n",
      "32\n",
      "33\n",
      "34\n",
      "36\n",
      "37\n",
      "38\n",
      "39\n",
      "40\n",
      "41\n",
      "43\n",
      "44\n",
      "45\n",
      "46\n",
      "47\n",
      "48\n"
     ]
    }
   ],
   "source": [
    "# Iterate through numbers from 1 to 49\n",
    "for i in range(1, 50):\n",
    "    # Check if the number is divisible by 7\n",
    "    if i % 7 == 0:\n",
    "        continue  # Skip this iteration for numbers divisible by 7\n",
    "    print(i)"
   ]
  },
  {
   "cell_type": "code",
   "execution_count": null,
   "id": "c3aa6701",
   "metadata": {},
   "outputs": [],
   "source": []
  }
 ],
 "metadata": {
  "kernelspec": {
   "display_name": "Python 3 (ipykernel)",
   "language": "python",
   "name": "python3"
  },
  "language_info": {
   "codemirror_mode": {
    "name": "ipython",
    "version": 3
   },
   "file_extension": ".py",
   "mimetype": "text/x-python",
   "name": "python",
   "nbconvert_exporter": "python",
   "pygments_lexer": "ipython3",
   "version": "3.9.13"
  }
 },
 "nbformat": 4,
 "nbformat_minor": 5
}
